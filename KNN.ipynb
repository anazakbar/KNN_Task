{
  "cells": [
    {
      "cell_type": "code",
      "execution_count": null,
      "metadata": {
        "id": "Yo5NRHgAGeS7"
      },
      "outputs": [],
      "source": [
        "!pip install ipython-autotime\n",
        "%load_ext autotime\n",
        "import pandas as pd # Importing the pandas library for data manipulation and analysis\n",
        "import numpy as np # Importing the numpy library for numerical computations\n",
        "import matplotlib.pyplot as plt # Importing the matplotlib library for data visualization\n",
        "import seaborn as sns # Importing the seaborn library for statistical data visualization"
      ]
    },
    {
      "cell_type": "code",
      "execution_count": null,
      "metadata": {
        "id": "rii87yCkGhmy",
        "colab": {
          "base_uri": "https://localhost:8080/"
        },
        "outputId": "f0039997-5e10-4f58-fc37-14fbc8bfbf69"
      },
      "outputs": [
        {
          "output_type": "stream",
          "name": "stdout",
          "text": [
            "time: 1.45 s (started: 2023-06-05 02:35:09 +00:00)\n"
          ]
        }
      ],
      "source": [
        "# Load the dataset\n",
        "url = 'https://drive.google.com/uc?id=1tL8frVJ3USsauaZJlewkNsBJwV0OyrOG&export=download'\n",
        "df = pd.read_csv(url) # Reading the data from the provided URL"
      ]
    },
    {
      "cell_type": "code",
      "execution_count": null,
      "metadata": {
        "colab": {
          "base_uri": "https://localhost:8080/"
        },
        "id": "TruLkI_rGoLK",
        "outputId": "2888c81d-1b05-4156-8ea1-16c2a2fdf335"
      },
      "outputs": [
        {
          "output_type": "stream",
          "name": "stdout",
          "text": [
            "     age  sex  height  weight  QRSduration  PRinterval  Q-Tinterval  \\\n",
            "0     75    0     190      80           91         193          371   \n",
            "1     56    1     165      64           81         174          401   \n",
            "2     54    0     172      95          138         163          386   \n",
            "3     55    0     175      94          100         202          380   \n",
            "4     75    0     190      80           88         181          360   \n",
            "..   ...  ...     ...     ...          ...         ...          ...   \n",
            "447   53    1     160      70           80         199          382   \n",
            "448   37    0     190      85          100         137          361   \n",
            "449   36    0     166      68          108         176          365   \n",
            "450   32    1     155      55           93         106          386   \n",
            "451   78    1     160      70           79         127          364   \n",
            "\n",
            "     Tinterval  Pinterval  QRS  ...  chV6_QwaveAmp  chV6_RwaveAmp  \\\n",
            "0          174        121  -16  ...            0.0            9.0   \n",
            "1          149         39   25  ...            0.0            8.5   \n",
            "2          185        102   96  ...            0.0            9.5   \n",
            "3          179        143   28  ...            0.0           12.2   \n",
            "4          177        103  -16  ...            0.0           13.1   \n",
            "..         ...        ...  ...  ...            ...            ...   \n",
            "447        154        117  -37  ...            0.0            4.3   \n",
            "448        201         73   86  ...            0.0           15.6   \n",
            "449        194        116  -85  ...            0.0           16.3   \n",
            "450        218         63   54  ...           -0.4           12.0   \n",
            "451        138         78   28  ...            0.0           10.4   \n",
            "\n",
            "     chV6_SwaveAmp  chV6_RPwaveAmp  chV6_SPwaveAmp  chV6_PwaveAmp  \\\n",
            "0             -0.9             0.0               0            0.9   \n",
            "1              0.0             0.0               0            0.2   \n",
            "2             -2.4             0.0               0            0.3   \n",
            "3             -2.2             0.0               0            0.4   \n",
            "4             -3.6             0.0               0           -0.1   \n",
            "..             ...             ...             ...            ...   \n",
            "447           -5.0             0.0               0            0.7   \n",
            "448           -1.6             0.0               0            0.4   \n",
            "449          -28.6             0.0               0            1.5   \n",
            "450           -0.7             0.0               0            0.5   \n",
            "451           -1.8             0.0               0            0.5   \n",
            "\n",
            "     chV6_TwaveAmp  chV6_QRSA  chV6_QRSTA  classes  \n",
            "0              2.9       23.3        49.4        8  \n",
            "1              2.1       20.4        38.8        6  \n",
            "2              3.4       12.3        49.0       10  \n",
            "3              2.6       34.6        61.6        1  \n",
            "4              3.9       25.4        62.8        7  \n",
            "..             ...        ...         ...      ...  \n",
            "447            0.6       -4.4        -0.5        1  \n",
            "448            2.4       38.0        62.4       10  \n",
            "449            1.0      -44.2       -33.2        2  \n",
            "450            2.4       25.0        46.6        1  \n",
            "451            1.6       21.3        32.8        1  \n",
            "\n",
            "[452 rows x 280 columns]\n",
            "time: 82.8 ms (started: 2023-06-05 02:35:10 +00:00)\n"
          ]
        }
      ],
      "source": [
        "print(df) # read the data"
      ]
    },
    {
      "cell_type": "code",
      "execution_count": null,
      "metadata": {
        "colab": {
          "base_uri": "https://localhost:8080/"
        },
        "id": "H49CB7t8M4cV",
        "outputId": "191548b8-7979-47d7-91e9-9ad947547b29"
      },
      "outputs": [
        {
          "output_type": "stream",
          "name": "stdout",
          "text": [
            "<class 'pandas.core.frame.DataFrame'>\n",
            "RangeIndex: 452 entries, 0 to 451\n",
            "Columns: 280 entries, age to classes\n",
            "dtypes: float64(121), int64(159)\n",
            "memory usage: 988.9 KB\n",
            "time: 82.2 ms (started: 2023-06-05 02:35:10 +00:00)\n"
          ]
        }
      ],
      "source": [
        "df.info() # Displaying information about the DataFrame (e.g., column names, data types)"
      ]
    },
    {
      "cell_type": "code",
      "execution_count": null,
      "metadata": {
        "colab": {
          "base_uri": "https://localhost:8080/",
          "height": 429
        },
        "id": "_Gce2IYNM6Ge",
        "outputId": "5256912d-f2de-416c-d2ef-9b10106933fa"
      },
      "outputs": [
        {
          "output_type": "execute_result",
          "data": {
            "text/plain": [
              "              age         sex      height      weight  QRSduration  \\\n",
              "count  452.000000  452.000000  452.000000  452.000000   452.000000   \n",
              "mean    46.471239    0.550885  166.188053   68.170354    88.920354   \n",
              "std     16.466631    0.497955   37.170340   16.590803    15.364394   \n",
              "min      0.000000    0.000000  105.000000    6.000000    55.000000   \n",
              "25%     36.000000    0.000000  160.000000   59.000000    80.000000   \n",
              "50%     47.000000    1.000000  164.000000   68.000000    86.000000   \n",
              "75%     58.000000    1.000000  170.000000   79.000000    94.000000   \n",
              "max     83.000000    1.000000  780.000000  176.000000   188.000000   \n",
              "\n",
              "       PRinterval  Q-Tinterval   Tinterval   Pinterval         QRS  ...  \\\n",
              "count  452.000000   452.000000  452.000000  452.000000  452.000000  ...   \n",
              "mean   155.152655   367.207965  169.949115   90.004425   33.676991  ...   \n",
              "std     44.842283    33.385421   35.633072   25.826643   45.431434  ...   \n",
              "min      0.000000   232.000000  108.000000    0.000000 -172.000000  ...   \n",
              "25%    142.000000   350.000000  148.000000   79.000000    3.750000  ...   \n",
              "50%    157.000000   367.000000  162.000000   91.000000   40.000000  ...   \n",
              "75%    175.000000   384.000000  179.000000  102.000000   66.000000  ...   \n",
              "max    524.000000   509.000000  381.000000  205.000000  169.000000  ...   \n",
              "\n",
              "       chV6_QwaveAmp  chV6_RwaveAmp  chV6_SwaveAmp  chV6_RPwaveAmp  \\\n",
              "count     452.000000     452.000000     452.000000      452.000000   \n",
              "mean       -0.278982       9.048009      -1.457301        0.003982   \n",
              "std         0.548876       3.472862       2.002430        0.050118   \n",
              "min        -4.100000       0.000000     -28.600000        0.000000   \n",
              "25%        -0.425000       6.600000      -2.100000        0.000000   \n",
              "50%         0.000000       8.800000      -1.100000        0.000000   \n",
              "75%         0.000000      11.200000       0.000000        0.000000   \n",
              "max         0.000000      23.600000       0.000000        0.800000   \n",
              "\n",
              "       chV6_SPwaveAmp  chV6_PwaveAmp  chV6_TwaveAmp   chV6_QRSA  chV6_QRSTA  \\\n",
              "count           452.0     452.000000     452.000000  452.000000  452.000000   \n",
              "mean              0.0       0.514823       1.222345   19.326106   29.473230   \n",
              "std               0.0       0.347531       1.426052   13.503922   18.493927   \n",
              "min               0.0      -0.800000      -6.000000  -44.200000  -38.600000   \n",
              "25%               0.0       0.400000       0.500000   11.450000   17.550000   \n",
              "50%               0.0       0.500000       1.350000   18.100000   27.900000   \n",
              "75%               0.0       0.700000       2.100000   25.825000   41.125000   \n",
              "max               0.0       2.400000       6.000000   88.800000  115.900000   \n",
              "\n",
              "          classes  \n",
              "count  452.000000  \n",
              "mean     3.880531  \n",
              "std      4.407097  \n",
              "min      1.000000  \n",
              "25%      1.000000  \n",
              "50%      1.000000  \n",
              "75%      6.000000  \n",
              "max     16.000000  \n",
              "\n",
              "[8 rows x 280 columns]"
            ],
            "text/html": [
              "\n",
              "  <div id=\"df-384222c9-7649-4d00-9255-1af8e962ab92\">\n",
              "    <div class=\"colab-df-container\">\n",
              "      <div>\n",
              "<style scoped>\n",
              "    .dataframe tbody tr th:only-of-type {\n",
              "        vertical-align: middle;\n",
              "    }\n",
              "\n",
              "    .dataframe tbody tr th {\n",
              "        vertical-align: top;\n",
              "    }\n",
              "\n",
              "    .dataframe thead th {\n",
              "        text-align: right;\n",
              "    }\n",
              "</style>\n",
              "<table border=\"1\" class=\"dataframe\">\n",
              "  <thead>\n",
              "    <tr style=\"text-align: right;\">\n",
              "      <th></th>\n",
              "      <th>age</th>\n",
              "      <th>sex</th>\n",
              "      <th>height</th>\n",
              "      <th>weight</th>\n",
              "      <th>QRSduration</th>\n",
              "      <th>PRinterval</th>\n",
              "      <th>Q-Tinterval</th>\n",
              "      <th>Tinterval</th>\n",
              "      <th>Pinterval</th>\n",
              "      <th>QRS</th>\n",
              "      <th>...</th>\n",
              "      <th>chV6_QwaveAmp</th>\n",
              "      <th>chV6_RwaveAmp</th>\n",
              "      <th>chV6_SwaveAmp</th>\n",
              "      <th>chV6_RPwaveAmp</th>\n",
              "      <th>chV6_SPwaveAmp</th>\n",
              "      <th>chV6_PwaveAmp</th>\n",
              "      <th>chV6_TwaveAmp</th>\n",
              "      <th>chV6_QRSA</th>\n",
              "      <th>chV6_QRSTA</th>\n",
              "      <th>classes</th>\n",
              "    </tr>\n",
              "  </thead>\n",
              "  <tbody>\n",
              "    <tr>\n",
              "      <th>count</th>\n",
              "      <td>452.000000</td>\n",
              "      <td>452.000000</td>\n",
              "      <td>452.000000</td>\n",
              "      <td>452.000000</td>\n",
              "      <td>452.000000</td>\n",
              "      <td>452.000000</td>\n",
              "      <td>452.000000</td>\n",
              "      <td>452.000000</td>\n",
              "      <td>452.000000</td>\n",
              "      <td>452.000000</td>\n",
              "      <td>...</td>\n",
              "      <td>452.000000</td>\n",
              "      <td>452.000000</td>\n",
              "      <td>452.000000</td>\n",
              "      <td>452.000000</td>\n",
              "      <td>452.0</td>\n",
              "      <td>452.000000</td>\n",
              "      <td>452.000000</td>\n",
              "      <td>452.000000</td>\n",
              "      <td>452.000000</td>\n",
              "      <td>452.000000</td>\n",
              "    </tr>\n",
              "    <tr>\n",
              "      <th>mean</th>\n",
              "      <td>46.471239</td>\n",
              "      <td>0.550885</td>\n",
              "      <td>166.188053</td>\n",
              "      <td>68.170354</td>\n",
              "      <td>88.920354</td>\n",
              "      <td>155.152655</td>\n",
              "      <td>367.207965</td>\n",
              "      <td>169.949115</td>\n",
              "      <td>90.004425</td>\n",
              "      <td>33.676991</td>\n",
              "      <td>...</td>\n",
              "      <td>-0.278982</td>\n",
              "      <td>9.048009</td>\n",
              "      <td>-1.457301</td>\n",
              "      <td>0.003982</td>\n",
              "      <td>0.0</td>\n",
              "      <td>0.514823</td>\n",
              "      <td>1.222345</td>\n",
              "      <td>19.326106</td>\n",
              "      <td>29.473230</td>\n",
              "      <td>3.880531</td>\n",
              "    </tr>\n",
              "    <tr>\n",
              "      <th>std</th>\n",
              "      <td>16.466631</td>\n",
              "      <td>0.497955</td>\n",
              "      <td>37.170340</td>\n",
              "      <td>16.590803</td>\n",
              "      <td>15.364394</td>\n",
              "      <td>44.842283</td>\n",
              "      <td>33.385421</td>\n",
              "      <td>35.633072</td>\n",
              "      <td>25.826643</td>\n",
              "      <td>45.431434</td>\n",
              "      <td>...</td>\n",
              "      <td>0.548876</td>\n",
              "      <td>3.472862</td>\n",
              "      <td>2.002430</td>\n",
              "      <td>0.050118</td>\n",
              "      <td>0.0</td>\n",
              "      <td>0.347531</td>\n",
              "      <td>1.426052</td>\n",
              "      <td>13.503922</td>\n",
              "      <td>18.493927</td>\n",
              "      <td>4.407097</td>\n",
              "    </tr>\n",
              "    <tr>\n",
              "      <th>min</th>\n",
              "      <td>0.000000</td>\n",
              "      <td>0.000000</td>\n",
              "      <td>105.000000</td>\n",
              "      <td>6.000000</td>\n",
              "      <td>55.000000</td>\n",
              "      <td>0.000000</td>\n",
              "      <td>232.000000</td>\n",
              "      <td>108.000000</td>\n",
              "      <td>0.000000</td>\n",
              "      <td>-172.000000</td>\n",
              "      <td>...</td>\n",
              "      <td>-4.100000</td>\n",
              "      <td>0.000000</td>\n",
              "      <td>-28.600000</td>\n",
              "      <td>0.000000</td>\n",
              "      <td>0.0</td>\n",
              "      <td>-0.800000</td>\n",
              "      <td>-6.000000</td>\n",
              "      <td>-44.200000</td>\n",
              "      <td>-38.600000</td>\n",
              "      <td>1.000000</td>\n",
              "    </tr>\n",
              "    <tr>\n",
              "      <th>25%</th>\n",
              "      <td>36.000000</td>\n",
              "      <td>0.000000</td>\n",
              "      <td>160.000000</td>\n",
              "      <td>59.000000</td>\n",
              "      <td>80.000000</td>\n",
              "      <td>142.000000</td>\n",
              "      <td>350.000000</td>\n",
              "      <td>148.000000</td>\n",
              "      <td>79.000000</td>\n",
              "      <td>3.750000</td>\n",
              "      <td>...</td>\n",
              "      <td>-0.425000</td>\n",
              "      <td>6.600000</td>\n",
              "      <td>-2.100000</td>\n",
              "      <td>0.000000</td>\n",
              "      <td>0.0</td>\n",
              "      <td>0.400000</td>\n",
              "      <td>0.500000</td>\n",
              "      <td>11.450000</td>\n",
              "      <td>17.550000</td>\n",
              "      <td>1.000000</td>\n",
              "    </tr>\n",
              "    <tr>\n",
              "      <th>50%</th>\n",
              "      <td>47.000000</td>\n",
              "      <td>1.000000</td>\n",
              "      <td>164.000000</td>\n",
              "      <td>68.000000</td>\n",
              "      <td>86.000000</td>\n",
              "      <td>157.000000</td>\n",
              "      <td>367.000000</td>\n",
              "      <td>162.000000</td>\n",
              "      <td>91.000000</td>\n",
              "      <td>40.000000</td>\n",
              "      <td>...</td>\n",
              "      <td>0.000000</td>\n",
              "      <td>8.800000</td>\n",
              "      <td>-1.100000</td>\n",
              "      <td>0.000000</td>\n",
              "      <td>0.0</td>\n",
              "      <td>0.500000</td>\n",
              "      <td>1.350000</td>\n",
              "      <td>18.100000</td>\n",
              "      <td>27.900000</td>\n",
              "      <td>1.000000</td>\n",
              "    </tr>\n",
              "    <tr>\n",
              "      <th>75%</th>\n",
              "      <td>58.000000</td>\n",
              "      <td>1.000000</td>\n",
              "      <td>170.000000</td>\n",
              "      <td>79.000000</td>\n",
              "      <td>94.000000</td>\n",
              "      <td>175.000000</td>\n",
              "      <td>384.000000</td>\n",
              "      <td>179.000000</td>\n",
              "      <td>102.000000</td>\n",
              "      <td>66.000000</td>\n",
              "      <td>...</td>\n",
              "      <td>0.000000</td>\n",
              "      <td>11.200000</td>\n",
              "      <td>0.000000</td>\n",
              "      <td>0.000000</td>\n",
              "      <td>0.0</td>\n",
              "      <td>0.700000</td>\n",
              "      <td>2.100000</td>\n",
              "      <td>25.825000</td>\n",
              "      <td>41.125000</td>\n",
              "      <td>6.000000</td>\n",
              "    </tr>\n",
              "    <tr>\n",
              "      <th>max</th>\n",
              "      <td>83.000000</td>\n",
              "      <td>1.000000</td>\n",
              "      <td>780.000000</td>\n",
              "      <td>176.000000</td>\n",
              "      <td>188.000000</td>\n",
              "      <td>524.000000</td>\n",
              "      <td>509.000000</td>\n",
              "      <td>381.000000</td>\n",
              "      <td>205.000000</td>\n",
              "      <td>169.000000</td>\n",
              "      <td>...</td>\n",
              "      <td>0.000000</td>\n",
              "      <td>23.600000</td>\n",
              "      <td>0.000000</td>\n",
              "      <td>0.800000</td>\n",
              "      <td>0.0</td>\n",
              "      <td>2.400000</td>\n",
              "      <td>6.000000</td>\n",
              "      <td>88.800000</td>\n",
              "      <td>115.900000</td>\n",
              "      <td>16.000000</td>\n",
              "    </tr>\n",
              "  </tbody>\n",
              "</table>\n",
              "<p>8 rows × 280 columns</p>\n",
              "</div>\n",
              "      <button class=\"colab-df-convert\" onclick=\"convertToInteractive('df-384222c9-7649-4d00-9255-1af8e962ab92')\"\n",
              "              title=\"Convert this dataframe to an interactive table.\"\n",
              "              style=\"display:none;\">\n",
              "        \n",
              "  <svg xmlns=\"http://www.w3.org/2000/svg\" height=\"24px\"viewBox=\"0 0 24 24\"\n",
              "       width=\"24px\">\n",
              "    <path d=\"M0 0h24v24H0V0z\" fill=\"none\"/>\n",
              "    <path d=\"M18.56 5.44l.94 2.06.94-2.06 2.06-.94-2.06-.94-.94-2.06-.94 2.06-2.06.94zm-11 1L8.5 8.5l.94-2.06 2.06-.94-2.06-.94L8.5 2.5l-.94 2.06-2.06.94zm10 10l.94 2.06.94-2.06 2.06-.94-2.06-.94-.94-2.06-.94 2.06-2.06.94z\"/><path d=\"M17.41 7.96l-1.37-1.37c-.4-.4-.92-.59-1.43-.59-.52 0-1.04.2-1.43.59L10.3 9.45l-7.72 7.72c-.78.78-.78 2.05 0 2.83L4 21.41c.39.39.9.59 1.41.59.51 0 1.02-.2 1.41-.59l7.78-7.78 2.81-2.81c.8-.78.8-2.07 0-2.86zM5.41 20L4 18.59l7.72-7.72 1.47 1.35L5.41 20z\"/>\n",
              "  </svg>\n",
              "      </button>\n",
              "      \n",
              "  <style>\n",
              "    .colab-df-container {\n",
              "      display:flex;\n",
              "      flex-wrap:wrap;\n",
              "      gap: 12px;\n",
              "    }\n",
              "\n",
              "    .colab-df-convert {\n",
              "      background-color: #E8F0FE;\n",
              "      border: none;\n",
              "      border-radius: 50%;\n",
              "      cursor: pointer;\n",
              "      display: none;\n",
              "      fill: #1967D2;\n",
              "      height: 32px;\n",
              "      padding: 0 0 0 0;\n",
              "      width: 32px;\n",
              "    }\n",
              "\n",
              "    .colab-df-convert:hover {\n",
              "      background-color: #E2EBFA;\n",
              "      box-shadow: 0px 1px 2px rgba(60, 64, 67, 0.3), 0px 1px 3px 1px rgba(60, 64, 67, 0.15);\n",
              "      fill: #174EA6;\n",
              "    }\n",
              "\n",
              "    [theme=dark] .colab-df-convert {\n",
              "      background-color: #3B4455;\n",
              "      fill: #D2E3FC;\n",
              "    }\n",
              "\n",
              "    [theme=dark] .colab-df-convert:hover {\n",
              "      background-color: #434B5C;\n",
              "      box-shadow: 0px 1px 3px 1px rgba(0, 0, 0, 0.15);\n",
              "      filter: drop-shadow(0px 1px 2px rgba(0, 0, 0, 0.3));\n",
              "      fill: #FFFFFF;\n",
              "    }\n",
              "  </style>\n",
              "\n",
              "      <script>\n",
              "        const buttonEl =\n",
              "          document.querySelector('#df-384222c9-7649-4d00-9255-1af8e962ab92 button.colab-df-convert');\n",
              "        buttonEl.style.display =\n",
              "          google.colab.kernel.accessAllowed ? 'block' : 'none';\n",
              "\n",
              "        async function convertToInteractive(key) {\n",
              "          const element = document.querySelector('#df-384222c9-7649-4d00-9255-1af8e962ab92');\n",
              "          const dataTable =\n",
              "            await google.colab.kernel.invokeFunction('convertToInteractive',\n",
              "                                                     [key], {});\n",
              "          if (!dataTable) return;\n",
              "\n",
              "          const docLinkHtml = 'Like what you see? Visit the ' +\n",
              "            '<a target=\"_blank\" href=https://colab.research.google.com/notebooks/data_table.ipynb>data table notebook</a>'\n",
              "            + ' to learn more about interactive tables.';\n",
              "          element.innerHTML = '';\n",
              "          dataTable['output_type'] = 'display_data';\n",
              "          await google.colab.output.renderOutput(dataTable, element);\n",
              "          const docLink = document.createElement('div');\n",
              "          docLink.innerHTML = docLinkHtml;\n",
              "          element.appendChild(docLink);\n",
              "        }\n",
              "      </script>\n",
              "    </div>\n",
              "  </div>\n",
              "  "
            ]
          },
          "metadata": {},
          "execution_count": 5
        },
        {
          "output_type": "stream",
          "name": "stdout",
          "text": [
            "time: 1.17 s (started: 2023-06-05 02:35:10 +00:00)\n"
          ]
        }
      ],
      "source": [
        "df.describe() # Generating descriptive statistics of the DataFrame"
      ]
    },
    {
      "cell_type": "code",
      "execution_count": null,
      "metadata": {
        "colab": {
          "base_uri": "https://localhost:8080/"
        },
        "id": "iOsTVDSoMK0A",
        "outputId": "ffc23122-4d32-42c7-d217-32b1397a4de0"
      },
      "outputs": [
        {
          "output_type": "execute_result",
          "data": {
            "text/plain": [
              "(452, 280)"
            ]
          },
          "metadata": {},
          "execution_count": 6
        },
        {
          "output_type": "stream",
          "name": "stdout",
          "text": [
            "time: 2.78 ms (started: 2023-06-05 02:35:12 +00:00)\n"
          ]
        }
      ],
      "source": [
        "df.shape #Checking data shape (row,columns)"
      ]
    },
    {
      "cell_type": "code",
      "execution_count": null,
      "metadata": {
        "id": "akcUcI0eHvCv",
        "colab": {
          "base_uri": "https://localhost:8080/"
        },
        "outputId": "363a0268-0302-4e29-a520-49c3eced683b"
      },
      "outputs": [
        {
          "output_type": "stream",
          "name": "stdout",
          "text": [
            "time: 1.95 ms (started: 2023-06-05 02:35:12 +00:00)\n"
          ]
        }
      ],
      "source": [
        "# Data preprocessing\n",
        "# Replace '?' with NaN\n",
        "df.replace('?', np.nan, inplace=True)"
      ]
    },
    {
      "cell_type": "code",
      "execution_count": null,
      "metadata": {
        "colab": {
          "base_uri": "https://localhost:8080/"
        },
        "id": "3J47Ly3iIFfn",
        "outputId": "e5557c68-0cdb-4fb2-dd6d-c212b3b88521"
      },
      "outputs": [
        {
          "output_type": "stream",
          "name": "stdout",
          "text": [
            "Missing values:\n"
          ]
        },
        {
          "output_type": "execute_result",
          "data": {
            "text/plain": [
              "J                  376\n",
              "P                   22\n",
              "T                    8\n",
              "QRST                 1\n",
              "heartrate            1\n",
              "chAVR_SwaveAmp       0\n",
              "chAVR_RwaveAmp       0\n",
              "chAVR_QwaveAmp       0\n",
              "chAVR_JJwaveAmp      0\n",
              "chDIII_QRSTA         0\n",
              "dtype: int64"
            ]
          },
          "metadata": {},
          "execution_count": 8
        },
        {
          "output_type": "stream",
          "name": "stdout",
          "text": [
            "time: 11.6 ms (started: 2023-06-05 02:35:12 +00:00)\n"
          ]
        }
      ],
      "source": [
        "# Check missing values\n",
        "missing_values = df.isnull().sum().sort_values(ascending=False)  # Calculating the number of missing values in each column\n",
        "print(\"Missing values:\")\n",
        "missing_values.head(10) # Printing the columns with the highest number of missing values"
      ]
    },
    {
      "cell_type": "code",
      "execution_count": null,
      "metadata": {
        "id": "zFOKtTXVIVAG",
        "colab": {
          "base_uri": "https://localhost:8080/"
        },
        "outputId": "cb3dd780-f087-451d-ca16-0e8462054ea5"
      },
      "outputs": [
        {
          "output_type": "stream",
          "name": "stdout",
          "text": [
            "time: 5.76 ms (started: 2023-06-05 02:35:12 +00:00)\n"
          ]
        }
      ],
      "source": [
        "# Drop columns with more than 50% missing values\n",
        "threshold = 0.5 * len(df) # Setting the threshold for dropping columns with missing values\n",
        "df.dropna(thresh=threshold, axis=1, inplace=True)  # Dropping columns with more than 50% missing values"
      ]
    },
    {
      "cell_type": "code",
      "execution_count": null,
      "metadata": {
        "id": "OOxHsE5zImIo",
        "colab": {
          "base_uri": "https://localhost:8080/"
        },
        "outputId": "c44b04a6-f6f0-40b2-ff68-cd44dbadf6b5"
      },
      "outputs": [
        {
          "output_type": "stream",
          "name": "stdout",
          "text": [
            "time: 178 ms (started: 2023-06-05 02:35:12 +00:00)\n"
          ]
        }
      ],
      "source": [
        "# Fill missing values with column mean\n",
        "df.fillna(df.mean(), inplace=True) # Filling the remaining missing values with the mean of each column"
      ]
    },
    {
      "cell_type": "code",
      "execution_count": null,
      "metadata": {
        "colab": {
          "base_uri": "https://localhost:8080/"
        },
        "id": "GkYg2nN5R85p",
        "outputId": "786e07be-161d-434d-bd7a-ea5085959c18"
      },
      "outputs": [
        {
          "output_type": "stream",
          "name": "stdout",
          "text": [
            "Missing values:\n"
          ]
        },
        {
          "output_type": "execute_result",
          "data": {
            "text/plain": [
              "age                 0\n",
              "chDIII_PwaveAmp     0\n",
              "chAVR_RwaveAmp      0\n",
              "chAVR_QwaveAmp      0\n",
              "chAVR_JJwaveAmp     0\n",
              "chDIII_QRSTA        0\n",
              "chDIII_QRSA         0\n",
              "chDIII_TwaveAmp     0\n",
              "chDIII_SPwaveAmp    0\n",
              "chDII_TwaveAmp      0\n",
              "dtype: int64"
            ]
          },
          "metadata": {},
          "execution_count": 11
        },
        {
          "output_type": "stream",
          "name": "stdout",
          "text": [
            "time: 13 ms (started: 2023-06-05 02:35:12 +00:00)\n"
          ]
        }
      ],
      "source": [
        "# Check missing values\n",
        "missing_values = df.isnull().sum().sort_values(ascending=False) # Checking if there are any remaining missing values\n",
        "print(\"Missing values:\")\n",
        "missing_values.head(10) # Printing the columns with the highest number of missing values"
      ]
    },
    {
      "cell_type": "code",
      "execution_count": null,
      "metadata": {
        "colab": {
          "base_uri": "https://localhost:8080/"
        },
        "id": "KEy6j5xlSaWu",
        "outputId": "f29afaba-87b7-4c4d-d59c-adfc3858d8aa"
      },
      "outputs": [
        {
          "output_type": "execute_result",
          "data": {
            "text/plain": [
              "(452, 279)"
            ]
          },
          "metadata": {},
          "execution_count": 12
        },
        {
          "output_type": "stream",
          "name": "stdout",
          "text": [
            "time: 4.36 ms (started: 2023-06-05 02:35:12 +00:00)\n"
          ]
        }
      ],
      "source": [
        "df.shape  # Displaying the shape of the DataFrame (number of rows, number of columns)"
      ]
    },
    {
      "cell_type": "code",
      "execution_count": null,
      "metadata": {
        "colab": {
          "base_uri": "https://localhost:8080/",
          "height": 523
        },
        "id": "5WO7fBGDSkTQ",
        "outputId": "79b24176-30ff-4223-a667-8d64bd556bf8"
      },
      "outputs": [
        {
          "output_type": "execute_result",
          "data": {
            "text/plain": [
              "     age  sex  height  weight  QRSduration  PRinterval  Q-Tinterval  \\\n",
              "0     66    1     160     124           99         154          329   \n",
              "1     49    0     166      73           95         157          383   \n",
              "2     44    1     160      65           79         170          350   \n",
              "3     37    0     182      90          101         294          356   \n",
              "4     38    1     160      63           79           0          376   \n",
              "..   ...  ...     ...     ...          ...         ...          ...   \n",
              "447   41    1     154      75           88         157          384   \n",
              "448   44    0     169      80          109         128          382   \n",
              "449   69    1     160      71           75         156          322   \n",
              "450   40    1     153      55           82         140          388   \n",
              "451   44    1     160      64           74         129          330   \n",
              "\n",
              "     Tinterval  Pinterval  QRS  ...  chV6_QwaveAmp  chV6_RwaveAmp  \\\n",
              "0          172         95  -48  ...            0.0            4.3   \n",
              "1          163         92  -18  ...            0.0            5.6   \n",
              "2          258         91   58  ...            0.0            9.9   \n",
              "3          164        143   33  ...            0.0            6.9   \n",
              "4          165          0   34  ...            0.0           10.1   \n",
              "..         ...        ...  ...  ...            ...            ...   \n",
              "447        132        112   65  ...           -0.4           10.5   \n",
              "448        195         60  -34  ...            0.0            6.9   \n",
              "449        172        105   18  ...            0.0            6.6   \n",
              "450        149         82   52  ...            0.0           13.6   \n",
              "451        161         79  -19  ...            0.0            2.7   \n",
              "\n",
              "     chV6_SwaveAmp  chV6_RPwaveAmp  chV6_SPwaveAmp  chV6_PwaveAmp  \\\n",
              "0             -5.2             0.0               0            0.6   \n",
              "1             -0.5             0.0               0            0.4   \n",
              "2              0.0             0.0               0            0.7   \n",
              "3              0.0             0.0               0            0.2   \n",
              "4              0.0             0.0               0            0.0   \n",
              "..             ...             ...             ...            ...   \n",
              "447           -2.5             0.0               0            0.5   \n",
              "448            0.0             0.0               0            0.4   \n",
              "449           -0.8             0.0               0            0.2   \n",
              "450            0.0             0.0               0            0.5   \n",
              "451           -2.2             0.0               0            0.7   \n",
              "\n",
              "     chV6_TwaveAmp  chV6_QRSA  chV6_QRSTA  classes  \n",
              "0              1.7       -7.2         4.7        1  \n",
              "1              1.7       11.1        25.3        1  \n",
              "2             -1.7       31.6         6.8        2  \n",
              "3              1.9       22.0        38.3       16  \n",
              "4              1.5       26.2        37.0        1  \n",
              "..             ...        ...         ...      ...  \n",
              "447            1.4       17.8        29.5       10  \n",
              "448            1.3       20.7        29.2       16  \n",
              "449            1.3       11.8        23.5        5  \n",
              "450            2.5       35.3        57.3        1  \n",
              "451            0.2        0.6         2.2        4  \n",
              "\n",
              "[452 rows x 279 columns]"
            ],
            "text/html": [
              "\n",
              "  <div id=\"df-53eac80d-23ac-4ea7-9963-6585d40ada9d\">\n",
              "    <div class=\"colab-df-container\">\n",
              "      <div>\n",
              "<style scoped>\n",
              "    .dataframe tbody tr th:only-of-type {\n",
              "        vertical-align: middle;\n",
              "    }\n",
              "\n",
              "    .dataframe tbody tr th {\n",
              "        vertical-align: top;\n",
              "    }\n",
              "\n",
              "    .dataframe thead th {\n",
              "        text-align: right;\n",
              "    }\n",
              "</style>\n",
              "<table border=\"1\" class=\"dataframe\">\n",
              "  <thead>\n",
              "    <tr style=\"text-align: right;\">\n",
              "      <th></th>\n",
              "      <th>age</th>\n",
              "      <th>sex</th>\n",
              "      <th>height</th>\n",
              "      <th>weight</th>\n",
              "      <th>QRSduration</th>\n",
              "      <th>PRinterval</th>\n",
              "      <th>Q-Tinterval</th>\n",
              "      <th>Tinterval</th>\n",
              "      <th>Pinterval</th>\n",
              "      <th>QRS</th>\n",
              "      <th>...</th>\n",
              "      <th>chV6_QwaveAmp</th>\n",
              "      <th>chV6_RwaveAmp</th>\n",
              "      <th>chV6_SwaveAmp</th>\n",
              "      <th>chV6_RPwaveAmp</th>\n",
              "      <th>chV6_SPwaveAmp</th>\n",
              "      <th>chV6_PwaveAmp</th>\n",
              "      <th>chV6_TwaveAmp</th>\n",
              "      <th>chV6_QRSA</th>\n",
              "      <th>chV6_QRSTA</th>\n",
              "      <th>classes</th>\n",
              "    </tr>\n",
              "  </thead>\n",
              "  <tbody>\n",
              "    <tr>\n",
              "      <th>0</th>\n",
              "      <td>66</td>\n",
              "      <td>1</td>\n",
              "      <td>160</td>\n",
              "      <td>124</td>\n",
              "      <td>99</td>\n",
              "      <td>154</td>\n",
              "      <td>329</td>\n",
              "      <td>172</td>\n",
              "      <td>95</td>\n",
              "      <td>-48</td>\n",
              "      <td>...</td>\n",
              "      <td>0.0</td>\n",
              "      <td>4.3</td>\n",
              "      <td>-5.2</td>\n",
              "      <td>0.0</td>\n",
              "      <td>0</td>\n",
              "      <td>0.6</td>\n",
              "      <td>1.7</td>\n",
              "      <td>-7.2</td>\n",
              "      <td>4.7</td>\n",
              "      <td>1</td>\n",
              "    </tr>\n",
              "    <tr>\n",
              "      <th>1</th>\n",
              "      <td>49</td>\n",
              "      <td>0</td>\n",
              "      <td>166</td>\n",
              "      <td>73</td>\n",
              "      <td>95</td>\n",
              "      <td>157</td>\n",
              "      <td>383</td>\n",
              "      <td>163</td>\n",
              "      <td>92</td>\n",
              "      <td>-18</td>\n",
              "      <td>...</td>\n",
              "      <td>0.0</td>\n",
              "      <td>5.6</td>\n",
              "      <td>-0.5</td>\n",
              "      <td>0.0</td>\n",
              "      <td>0</td>\n",
              "      <td>0.4</td>\n",
              "      <td>1.7</td>\n",
              "      <td>11.1</td>\n",
              "      <td>25.3</td>\n",
              "      <td>1</td>\n",
              "    </tr>\n",
              "    <tr>\n",
              "      <th>2</th>\n",
              "      <td>44</td>\n",
              "      <td>1</td>\n",
              "      <td>160</td>\n",
              "      <td>65</td>\n",
              "      <td>79</td>\n",
              "      <td>170</td>\n",
              "      <td>350</td>\n",
              "      <td>258</td>\n",
              "      <td>91</td>\n",
              "      <td>58</td>\n",
              "      <td>...</td>\n",
              "      <td>0.0</td>\n",
              "      <td>9.9</td>\n",
              "      <td>0.0</td>\n",
              "      <td>0.0</td>\n",
              "      <td>0</td>\n",
              "      <td>0.7</td>\n",
              "      <td>-1.7</td>\n",
              "      <td>31.6</td>\n",
              "      <td>6.8</td>\n",
              "      <td>2</td>\n",
              "    </tr>\n",
              "    <tr>\n",
              "      <th>3</th>\n",
              "      <td>37</td>\n",
              "      <td>0</td>\n",
              "      <td>182</td>\n",
              "      <td>90</td>\n",
              "      <td>101</td>\n",
              "      <td>294</td>\n",
              "      <td>356</td>\n",
              "      <td>164</td>\n",
              "      <td>143</td>\n",
              "      <td>33</td>\n",
              "      <td>...</td>\n",
              "      <td>0.0</td>\n",
              "      <td>6.9</td>\n",
              "      <td>0.0</td>\n",
              "      <td>0.0</td>\n",
              "      <td>0</td>\n",
              "      <td>0.2</td>\n",
              "      <td>1.9</td>\n",
              "      <td>22.0</td>\n",
              "      <td>38.3</td>\n",
              "      <td>16</td>\n",
              "    </tr>\n",
              "    <tr>\n",
              "      <th>4</th>\n",
              "      <td>38</td>\n",
              "      <td>1</td>\n",
              "      <td>160</td>\n",
              "      <td>63</td>\n",
              "      <td>79</td>\n",
              "      <td>0</td>\n",
              "      <td>376</td>\n",
              "      <td>165</td>\n",
              "      <td>0</td>\n",
              "      <td>34</td>\n",
              "      <td>...</td>\n",
              "      <td>0.0</td>\n",
              "      <td>10.1</td>\n",
              "      <td>0.0</td>\n",
              "      <td>0.0</td>\n",
              "      <td>0</td>\n",
              "      <td>0.0</td>\n",
              "      <td>1.5</td>\n",
              "      <td>26.2</td>\n",
              "      <td>37.0</td>\n",
              "      <td>1</td>\n",
              "    </tr>\n",
              "    <tr>\n",
              "      <th>...</th>\n",
              "      <td>...</td>\n",
              "      <td>...</td>\n",
              "      <td>...</td>\n",
              "      <td>...</td>\n",
              "      <td>...</td>\n",
              "      <td>...</td>\n",
              "      <td>...</td>\n",
              "      <td>...</td>\n",
              "      <td>...</td>\n",
              "      <td>...</td>\n",
              "      <td>...</td>\n",
              "      <td>...</td>\n",
              "      <td>...</td>\n",
              "      <td>...</td>\n",
              "      <td>...</td>\n",
              "      <td>...</td>\n",
              "      <td>...</td>\n",
              "      <td>...</td>\n",
              "      <td>...</td>\n",
              "      <td>...</td>\n",
              "      <td>...</td>\n",
              "    </tr>\n",
              "    <tr>\n",
              "      <th>447</th>\n",
              "      <td>41</td>\n",
              "      <td>1</td>\n",
              "      <td>154</td>\n",
              "      <td>75</td>\n",
              "      <td>88</td>\n",
              "      <td>157</td>\n",
              "      <td>384</td>\n",
              "      <td>132</td>\n",
              "      <td>112</td>\n",
              "      <td>65</td>\n",
              "      <td>...</td>\n",
              "      <td>-0.4</td>\n",
              "      <td>10.5</td>\n",
              "      <td>-2.5</td>\n",
              "      <td>0.0</td>\n",
              "      <td>0</td>\n",
              "      <td>0.5</td>\n",
              "      <td>1.4</td>\n",
              "      <td>17.8</td>\n",
              "      <td>29.5</td>\n",
              "      <td>10</td>\n",
              "    </tr>\n",
              "    <tr>\n",
              "      <th>448</th>\n",
              "      <td>44</td>\n",
              "      <td>0</td>\n",
              "      <td>169</td>\n",
              "      <td>80</td>\n",
              "      <td>109</td>\n",
              "      <td>128</td>\n",
              "      <td>382</td>\n",
              "      <td>195</td>\n",
              "      <td>60</td>\n",
              "      <td>-34</td>\n",
              "      <td>...</td>\n",
              "      <td>0.0</td>\n",
              "      <td>6.9</td>\n",
              "      <td>0.0</td>\n",
              "      <td>0.0</td>\n",
              "      <td>0</td>\n",
              "      <td>0.4</td>\n",
              "      <td>1.3</td>\n",
              "      <td>20.7</td>\n",
              "      <td>29.2</td>\n",
              "      <td>16</td>\n",
              "    </tr>\n",
              "    <tr>\n",
              "      <th>449</th>\n",
              "      <td>69</td>\n",
              "      <td>1</td>\n",
              "      <td>160</td>\n",
              "      <td>71</td>\n",
              "      <td>75</td>\n",
              "      <td>156</td>\n",
              "      <td>322</td>\n",
              "      <td>172</td>\n",
              "      <td>105</td>\n",
              "      <td>18</td>\n",
              "      <td>...</td>\n",
              "      <td>0.0</td>\n",
              "      <td>6.6</td>\n",
              "      <td>-0.8</td>\n",
              "      <td>0.0</td>\n",
              "      <td>0</td>\n",
              "      <td>0.2</td>\n",
              "      <td>1.3</td>\n",
              "      <td>11.8</td>\n",
              "      <td>23.5</td>\n",
              "      <td>5</td>\n",
              "    </tr>\n",
              "    <tr>\n",
              "      <th>450</th>\n",
              "      <td>40</td>\n",
              "      <td>1</td>\n",
              "      <td>153</td>\n",
              "      <td>55</td>\n",
              "      <td>82</td>\n",
              "      <td>140</td>\n",
              "      <td>388</td>\n",
              "      <td>149</td>\n",
              "      <td>82</td>\n",
              "      <td>52</td>\n",
              "      <td>...</td>\n",
              "      <td>0.0</td>\n",
              "      <td>13.6</td>\n",
              "      <td>0.0</td>\n",
              "      <td>0.0</td>\n",
              "      <td>0</td>\n",
              "      <td>0.5</td>\n",
              "      <td>2.5</td>\n",
              "      <td>35.3</td>\n",
              "      <td>57.3</td>\n",
              "      <td>1</td>\n",
              "    </tr>\n",
              "    <tr>\n",
              "      <th>451</th>\n",
              "      <td>44</td>\n",
              "      <td>1</td>\n",
              "      <td>160</td>\n",
              "      <td>64</td>\n",
              "      <td>74</td>\n",
              "      <td>129</td>\n",
              "      <td>330</td>\n",
              "      <td>161</td>\n",
              "      <td>79</td>\n",
              "      <td>-19</td>\n",
              "      <td>...</td>\n",
              "      <td>0.0</td>\n",
              "      <td>2.7</td>\n",
              "      <td>-2.2</td>\n",
              "      <td>0.0</td>\n",
              "      <td>0</td>\n",
              "      <td>0.7</td>\n",
              "      <td>0.2</td>\n",
              "      <td>0.6</td>\n",
              "      <td>2.2</td>\n",
              "      <td>4</td>\n",
              "    </tr>\n",
              "  </tbody>\n",
              "</table>\n",
              "<p>452 rows × 279 columns</p>\n",
              "</div>\n",
              "      <button class=\"colab-df-convert\" onclick=\"convertToInteractive('df-53eac80d-23ac-4ea7-9963-6585d40ada9d')\"\n",
              "              title=\"Convert this dataframe to an interactive table.\"\n",
              "              style=\"display:none;\">\n",
              "        \n",
              "  <svg xmlns=\"http://www.w3.org/2000/svg\" height=\"24px\"viewBox=\"0 0 24 24\"\n",
              "       width=\"24px\">\n",
              "    <path d=\"M0 0h24v24H0V0z\" fill=\"none\"/>\n",
              "    <path d=\"M18.56 5.44l.94 2.06.94-2.06 2.06-.94-2.06-.94-.94-2.06-.94 2.06-2.06.94zm-11 1L8.5 8.5l.94-2.06 2.06-.94-2.06-.94L8.5 2.5l-.94 2.06-2.06.94zm10 10l.94 2.06.94-2.06 2.06-.94-2.06-.94-.94-2.06-.94 2.06-2.06.94z\"/><path d=\"M17.41 7.96l-1.37-1.37c-.4-.4-.92-.59-1.43-.59-.52 0-1.04.2-1.43.59L10.3 9.45l-7.72 7.72c-.78.78-.78 2.05 0 2.83L4 21.41c.39.39.9.59 1.41.59.51 0 1.02-.2 1.41-.59l7.78-7.78 2.81-2.81c.8-.78.8-2.07 0-2.86zM5.41 20L4 18.59l7.72-7.72 1.47 1.35L5.41 20z\"/>\n",
              "  </svg>\n",
              "      </button>\n",
              "      \n",
              "  <style>\n",
              "    .colab-df-container {\n",
              "      display:flex;\n",
              "      flex-wrap:wrap;\n",
              "      gap: 12px;\n",
              "    }\n",
              "\n",
              "    .colab-df-convert {\n",
              "      background-color: #E8F0FE;\n",
              "      border: none;\n",
              "      border-radius: 50%;\n",
              "      cursor: pointer;\n",
              "      display: none;\n",
              "      fill: #1967D2;\n",
              "      height: 32px;\n",
              "      padding: 0 0 0 0;\n",
              "      width: 32px;\n",
              "    }\n",
              "\n",
              "    .colab-df-convert:hover {\n",
              "      background-color: #E2EBFA;\n",
              "      box-shadow: 0px 1px 2px rgba(60, 64, 67, 0.3), 0px 1px 3px 1px rgba(60, 64, 67, 0.15);\n",
              "      fill: #174EA6;\n",
              "    }\n",
              "\n",
              "    [theme=dark] .colab-df-convert {\n",
              "      background-color: #3B4455;\n",
              "      fill: #D2E3FC;\n",
              "    }\n",
              "\n",
              "    [theme=dark] .colab-df-convert:hover {\n",
              "      background-color: #434B5C;\n",
              "      box-shadow: 0px 1px 3px 1px rgba(0, 0, 0, 0.15);\n",
              "      filter: drop-shadow(0px 1px 2px rgba(0, 0, 0, 0.3));\n",
              "      fill: #FFFFFF;\n",
              "    }\n",
              "  </style>\n",
              "\n",
              "      <script>\n",
              "        const buttonEl =\n",
              "          document.querySelector('#df-53eac80d-23ac-4ea7-9963-6585d40ada9d button.colab-df-convert');\n",
              "        buttonEl.style.display =\n",
              "          google.colab.kernel.accessAllowed ? 'block' : 'none';\n",
              "\n",
              "        async function convertToInteractive(key) {\n",
              "          const element = document.querySelector('#df-53eac80d-23ac-4ea7-9963-6585d40ada9d');\n",
              "          const dataTable =\n",
              "            await google.colab.kernel.invokeFunction('convertToInteractive',\n",
              "                                                     [key], {});\n",
              "          if (!dataTable) return;\n",
              "\n",
              "          const docLinkHtml = 'Like what you see? Visit the ' +\n",
              "            '<a target=\"_blank\" href=https://colab.research.google.com/notebooks/data_table.ipynb>data table notebook</a>'\n",
              "            + ' to learn more about interactive tables.';\n",
              "          element.innerHTML = '';\n",
              "          dataTable['output_type'] = 'display_data';\n",
              "          await google.colab.output.renderOutput(dataTable, element);\n",
              "          const docLink = document.createElement('div');\n",
              "          docLink.innerHTML = docLinkHtml;\n",
              "          element.appendChild(docLink);\n",
              "        }\n",
              "      </script>\n",
              "    </div>\n",
              "  </div>\n",
              "  "
            ]
          },
          "metadata": {},
          "execution_count": 13
        },
        {
          "output_type": "stream",
          "name": "stdout",
          "text": [
            "time: 37.6 ms (started: 2023-06-05 02:35:12 +00:00)\n"
          ]
        }
      ],
      "source": [
        "# Shuffle Data\n",
        "df = df.sample(452).reset_index(drop=True)  # Shuffling the rows of the DataFrame randomly\n",
        "df"
      ]
    },
    {
      "cell_type": "code",
      "source": [
        "#check classes distribution\n",
        "Classcounts = df['classes'].value_counts()\n",
        "Classcounts.plot(kind='bar')\n",
        "plt.show()"
      ],
      "metadata": {
        "colab": {
          "base_uri": "https://localhost:8080/",
          "height": 452
        },
        "id": "68IdkuvqEMOu",
        "outputId": "a4cef6dc-ef5a-4430-a69e-3991b099c005"
      },
      "execution_count": null,
      "outputs": [
        {
          "output_type": "display_data",
          "data": {
            "text/plain": [
              "<Figure size 640x480 with 1 Axes>"
            ],
            "image/png": "[encoded data removed]"
          },
          "metadata": {}
        },
        {
          "output_type": "stream",
          "name": "stdout",
          "text": [
            "time: 502 ms (started: 2023-06-05 02:35:12 +00:00)\n"
          ]
        }
      ]
    },
    {
      "cell_type": "code",
      "execution_count": null,
      "metadata": {
        "id": "Q3KSk_MMoNL1",
        "colab": {
          "base_uri": "https://localhost:8080/"
        },
        "outputId": "43a9941c-52fa-4bea-9c0d-2ef0dbef2254"
      },
      "outputs": [
        {
          "output_type": "stream",
          "name": "stdout",
          "text": [
            "time: 683 µs (started: 2023-06-05 02:35:12 +00:00)\n"
          ]
        }
      ],
      "source": [
        "selected_columns = ['age', 'sex', 'weight', 'height'] # Selecting specific columns for analysis"
      ]
    },
    {
      "cell_type": "code",
      "execution_count": null,
      "metadata": {
        "colab": {
          "base_uri": "https://localhost:8080/",
          "height": 1000
        },
        "id": "Bsr9c2I5e-nA",
        "outputId": "33a854d9-f591-491a-83c7-05d32bd9582c"
      },
      "outputs": [
        {
          "output_type": "display_data",
          "data": {
            "text/plain": [
              "<Figure size 640x480 with 1 Axes>"
            ],
            "image/png": "[encoded data removed]"
          },
          "metadata": {}
        },
        {
          "output_type": "display_data",
          "data": {
            "text/plain": [
              "<Figure size 640x480 with 1 Axes>"
            ],
            "image/png": "[encoded data removed]"
          },
          "metadata": {}
        },
        {
          "output_type": "display_data",
          "data": {
            "text/plain": [
              "<Figure size 640x480 with 1 Axes>"
            ],
            "image/png": "[encoded data removed]"
          },
          "metadata": {}
        },
        {
          "output_type": "display_data",
          "data": {
            "text/plain": [
              "<Figure size 640x480 with 1 Axes>"
            ],
            "image/png": "[encoded data removed]"
          },
          "metadata": {}
        },
        {
          "output_type": "stream",
          "name": "stdout",
          "text": [
            "time: 1.36 s (started: 2023-06-05 02:35:12 +00:00)\n"
          ]
        }
      ],
      "source": [
        "# Create a scatter plot\n",
        "for i in range(len(selected_columns)):\n",
        "  x_column = selected_columns[i] # Selecting the x-axis column for the scatter plot\n",
        "\n",
        "  # Create scatter plot\n",
        "  plt.scatter(df[x_column], df['heartrate']) # Generating a scatter plot of x_column vs heartrate\n",
        "  plt.xlabel(x_column)  # Setting the x-axis label\n",
        "  plt.ylabel('heart rate') # Setting the y-axis label\n",
        "  plt.title('Scatter plot of {} vs {}'.format(x_column, 'heart rate')) # Setting the plot title\n",
        "  plt.show() # Displaying the scatter plot"
      ]
    },
    {
      "cell_type": "code",
      "source": [
        "df = df[df['height'] <= 200] # to drop all data that have height more than 200"
      ],
      "metadata": {
        "id": "afyex-tHD_tb",
        "colab": {
          "base_uri": "https://localhost:8080/"
        },
        "outputId": "49f6ee7a-03eb-4f60-edb4-d3c532134e56"
      },
      "execution_count": null,
      "outputs": [
        {
          "output_type": "stream",
          "name": "stdout",
          "text": [
            "time: 4.17 ms (started: 2023-06-05 02:35:14 +00:00)\n"
          ]
        }
      ]
    },
    {
      "cell_type": "code",
      "source": [
        "# Create a scatter plot\n",
        "for i in range(len(selected_columns)):\n",
        "  x_column = selected_columns[i]\n",
        "\n",
        "  # Create scatter plot\n",
        "  plt.scatter(df[x_column], df['heartrate'])\n",
        "  plt.xlabel(x_column)\n",
        "  plt.ylabel('heart rate')\n",
        "  plt.title('Scatter plot of {} vs {}'.format(x_column, 'heart rate'))\n",
        "  plt.show()"
      ],
      "metadata": {
        "colab": {
          "base_uri": "https://localhost:8080/",
          "height": 1000
        },
        "id": "KzqujI4iEC0J",
        "outputId": "6585b10a-633f-4687-d388-2c431a2cdeac"
      },
      "execution_count": null,
      "outputs": [
        {
          "output_type": "display_data",
          "data": {
            "text/plain": [
              "<Figure size 640x480 with 1 Axes>"
            ],
            "image/png": "[encoded data removed]"
          },
          "metadata": {}
        },
        {
          "output_type": "display_data",
          "data": {
            "text/plain": [
              "<Figure size 640x480 with 1 Axes>"
            ],
            "image/png": "[encoded data removed]"
          },
          "metadata": {}
        },
        {
          "output_type": "display_data",
          "data": {
            "text/plain": [
              "<Figure size 640x480 with 1 Axes>"
            ],
            "image/png": "[encoded data removed]"
          },
          "metadata": {}
        },
        {
          "output_type": "display_data",
          "data": {
            "text/plain": [
              "<Figure size 640x480 with 1 Axes>"
            ],
            "image/png": "[encoded data removed]"
          },
          "metadata": {}
        },
        {
          "output_type": "stream",
          "name": "stdout",
          "text": [
            "time: 1.07 s (started: 2023-06-05 02:35:14 +00:00)\n"
          ]
        }
      ]
    },
    {
      "cell_type": "code",
      "execution_count": null,
      "metadata": {
        "id": "FSWCOJpwhyve",
        "colab": {
          "base_uri": "https://localhost:8080/"
        },
        "outputId": "11e07b31-3c00-4b8c-c21f-6fb0fc8fd97c"
      },
      "outputs": [
        {
          "output_type": "stream",
          "name": "stdout",
          "text": [
            "time: 1.53 s (started: 2023-06-05 02:35:15 +00:00)\n"
          ]
        },
        {
          "output_type": "stream",
          "name": "stderr",
          "text": [
            "<ipython-input-19-9dec7f98ff09>:3: SettingWithCopyWarning: \n",
            "A value is trying to be set on a copy of a slice from a DataFrame\n",
            "\n",
            "See the caveats in the documentation: https://pandas.pydata.org/pandas-docs/stable/user_guide/indexing.html#returning-a-view-versus-a-copy\n",
            "  df.drop(min_max_zero_cols, axis=1, inplace=True)  # Dropping columns with zero values\n"
          ]
        }
      ],
      "source": [
        "# Drop columns with a minimum and maximum value of zero\n",
        "min_max_zero_cols = df.columns[(df.describe().loc['min'] == 0) & (df.describe().loc['max'] == 0)]  # Finding columns with minimum and maximum values equal to zero\n",
        "df.drop(min_max_zero_cols, axis=1, inplace=True)  # Dropping columns with zero values"
      ]
    },
    {
      "cell_type": "code",
      "execution_count": null,
      "metadata": {
        "id": "XasSSWWtv8KI",
        "colab": {
          "base_uri": "https://localhost:8080/"
        },
        "outputId": "2af46676-d4f3-4237-a73c-c8970c2022da"
      },
      "outputs": [
        {
          "output_type": "stream",
          "name": "stdout",
          "text": [
            "time: 108 ms (started: 2023-06-05 02:35:16 +00:00)\n"
          ]
        }
      ],
      "source": [
        "# Calculate the correlation between all columns and the target column\n",
        "correlations = df.corr()['classes']\n",
        "\n",
        "# Sort the correlations in descending order\n",
        "correlations = correlations.sort_values(ascending=False)"
      ]
    },
    {
      "cell_type": "code",
      "execution_count": null,
      "metadata": {
        "colab": {
          "base_uri": "https://localhost:8080/"
        },
        "id": "CDeYTGtwv9ks",
        "outputId": "67cdee22-46a8-47b2-9330-068bbf14abdd"
      },
      "outputs": [
        {
          "output_type": "execute_result",
          "data": {
            "text/plain": [
              "classes                        1.000000\n",
              "chV1_RPwave                    0.369370\n",
              "QRSduration                    0.324365\n",
              "chV1_intrinsicReflecttions     0.313934\n",
              "chV2_RPwave                    0.282876\n",
              "chV1_RPwaveAmp                 0.235787\n",
              "chV2_RPwaveAmp                 0.219071\n",
              "chDI_Swave                     0.194688\n",
              "chDII_Swave                    0.183200\n",
              "chV1_DD_RRwaveExists           0.174519\n",
              "chAVR_Rwave                    0.172557\n",
              "chV4_Swave                     0.170794\n",
              "chAVR_RwaveAmp                 0.165244\n",
              "chAVL_intrinsicReflecttions    0.153928\n",
              "chV3_JJwaveAmp                 0.152990\n",
              "chAVF_Swave                    0.144001\n",
              "chV6_intrinsicReflecttions     0.142085\n",
              "chV1_RwaveAmp                  0.141355\n",
              "chV3_Swave                     0.140728\n",
              "chAVR_intrinsicReflecttions    0.140614\n",
              "Name: classes, dtype: float64"
            ]
          },
          "metadata": {},
          "execution_count": 21
        },
        {
          "output_type": "stream",
          "name": "stdout",
          "text": [
            "time: 6.49 ms (started: 2023-06-05 02:35:17 +00:00)\n"
          ]
        }
      ],
      "source": [
        "correlations.head(20)  # Displaying the top 20 correlations"
      ]
    },
    {
      "cell_type": "code",
      "execution_count": null,
      "metadata": {
        "colab": {
          "base_uri": "https://localhost:8080/"
        },
        "id": "jjhLuK0XwAF0",
        "outputId": "05f64f69-ecc5-432f-c47b-afa4cb97af62"
      },
      "outputs": [
        {
          "output_type": "execute_result",
          "data": {
            "text/plain": [
              "chV2_QRSTA       -0.094146\n",
              "chAVF_SwaveAmp   -0.099030\n",
              "PRinterval       -0.099777\n",
              "chDI_QRSA        -0.100915\n",
              "chDI_PwaveAmp    -0.107980\n",
              "chV2_QRSA        -0.110374\n",
              "chV1_Swave       -0.117239\n",
              "Pinterval        -0.121948\n",
              "chAVL_QRSTA      -0.133629\n",
              "chDI_RwaveAmp    -0.136668\n",
              "chAVL_SwaveAmp   -0.145780\n",
              "chV4_SwaveAmp    -0.149819\n",
              "chDII_SwaveAmp   -0.158759\n",
              "chV3_QRSA        -0.160412\n",
              "chV5_QwaveAmp    -0.161956\n",
              "chV6_QwaveAmp    -0.164352\n",
              "chDI_QRSTA       -0.171079\n",
              "sex              -0.178393\n",
              "chV3_SwaveAmp    -0.189353\n",
              "chDI_SwaveAmp    -0.208428\n",
              "Name: classes, dtype: float64"
            ]
          },
          "metadata": {},
          "execution_count": 22
        },
        {
          "output_type": "stream",
          "name": "stdout",
          "text": [
            "time: 4.8 ms (started: 2023-06-05 02:35:17 +00:00)\n"
          ]
        }
      ],
      "source": [
        "correlations.tail(20) # Displaying the bottom 20 correlations"
      ]
    },
    {
      "cell_type": "code",
      "execution_count": null,
      "metadata": {
        "colab": {
          "base_uri": "https://localhost:8080/"
        },
        "id": "m6Pt8lUJjLZU",
        "outputId": "3780d21b-2c99-46fc-b55f-19f946e118fc"
      },
      "outputs": [
        {
          "output_type": "execute_result",
          "data": {
            "text/plain": [
              "(450, 261)"
            ]
          },
          "metadata": {},
          "execution_count": 23
        },
        {
          "output_type": "stream",
          "name": "stdout",
          "text": [
            "time: 4.62 ms (started: 2023-06-05 02:35:17 +00:00)\n"
          ]
        }
      ],
      "source": [
        "df.shape # Displaying the shape of the DataFrame (number of rows, number of columns)"
      ]
    },
    {
      "cell_type": "code",
      "execution_count": null,
      "metadata": {
        "colab": {
          "base_uri": "https://localhost:8080/"
        },
        "id": "bFz6D_XCSpzy",
        "outputId": "96cf243d-47dd-4fb1-f5d8-fa01e961e925"
      },
      "outputs": [
        {
          "output_type": "stream",
          "name": "stdout",
          "text": [
            "     age  sex  height  weight  QRSduration  PRinterval  Q-Tinterval  \\\n",
            "0     66    1     160     124           99         154          329   \n",
            "1     49    0     166      73           95         157          383   \n",
            "2     44    1     160      65           79         170          350   \n",
            "3     37    0     182      90          101         294          356   \n",
            "4     38    1     160      63           79           0          376   \n",
            "..   ...  ...     ...     ...          ...         ...          ...   \n",
            "295   41    1     154      75           88         157          384   \n",
            "296   44    0     169      80          109         128          382   \n",
            "297   69    1     160      71           75         156          322   \n",
            "298   40    1     153      55           82         140          388   \n",
            "299   44    1     160      64           74         129          330   \n",
            "\n",
            "     Tinterval  Pinterval  QRS  ...  chV6_JJwaveAmp  chV6_QwaveAmp  \\\n",
            "0          172         95  -48  ...             0.0            0.0   \n",
            "1          163         92  -18  ...            -0.1            0.0   \n",
            "2          258         91   58  ...            -0.9            0.0   \n",
            "3          164        143   33  ...            -0.1            0.0   \n",
            "4          165          0   34  ...            -0.4            0.0   \n",
            "..         ...        ...  ...  ...             ...            ...   \n",
            "295        132        112   65  ...            -0.4           -0.4   \n",
            "296        195         60  -34  ...            -0.7            0.0   \n",
            "297        172        105   18  ...            -0.3            0.0   \n",
            "298        149         82   52  ...            -0.6            0.0   \n",
            "299        161         79  -19  ...            -0.3            0.0   \n",
            "\n",
            "     chV6_RwaveAmp  chV6_SwaveAmp  chV6_RPwaveAmp  chV6_PwaveAmp  \\\n",
            "0              4.3           -5.2             0.0            0.6   \n",
            "1              5.6           -0.5             0.0            0.4   \n",
            "2              9.9            0.0             0.0            0.7   \n",
            "3              6.9            0.0             0.0            0.2   \n",
            "4             10.1            0.0             0.0            0.0   \n",
            "..             ...            ...             ...            ...   \n",
            "295           10.5           -2.5             0.0            0.5   \n",
            "296            6.9            0.0             0.0            0.4   \n",
            "297            6.6           -0.8             0.0            0.2   \n",
            "298           13.6            0.0             0.0            0.5   \n",
            "299            2.7           -2.2             0.0            0.7   \n",
            "\n",
            "     chV6_TwaveAmp  chV6_QRSA  chV6_QRSTA  classes  \n",
            "0              1.7       -7.2         4.7        1  \n",
            "1              1.7       11.1        25.3        1  \n",
            "2             -1.7       31.6         6.8        2  \n",
            "3              1.9       22.0        38.3       16  \n",
            "4              1.5       26.2        37.0        1  \n",
            "..             ...        ...         ...      ...  \n",
            "295            1.4       17.8        29.5       10  \n",
            "296            1.3       20.7        29.2       16  \n",
            "297            1.3       11.8        23.5        5  \n",
            "298            2.5       35.3        57.3        1  \n",
            "299            0.2        0.6         2.2        4  \n",
            "\n",
            "[300 rows x 261 columns]\n",
            "time: 35.6 ms (started: 2023-06-05 02:35:17 +00:00)\n"
          ]
        }
      ],
      "source": [
        "# Perform folding on the data\n",
        "fold1 = (df.iloc[0:150].reset_index(drop=True), df.iloc[150:450].reset_index(drop=True))  # Creating fold1\n",
        "fold2 = (df.iloc[150:300].reset_index(drop=True), pd.concat([df.iloc[0:150], df.iloc[300:450]]).reset_index(drop=True))  # Creating fold2\n",
        "fold3 = (df.iloc[300:450].reset_index(drop=True), df.iloc[0:300].reset_index(drop=True))  # Creating fold3\n",
        "\n",
        "test, train = fold2 # Splitting the data into test and train sets\n",
        "print(train) # Displaying the train data from fold2 (150 rows)"
      ]
    },
    {
      "cell_type": "code",
      "execution_count": null,
      "metadata": {
        "id": "uNjZ1YtUSuEJ",
        "colab": {
          "base_uri": "https://localhost:8080/"
        },
        "outputId": "417a932e-8acc-412d-94be-d4c0a588c048"
      },
      "outputs": [
        {
          "output_type": "stream",
          "name": "stdout",
          "text": [
            "time: 533 µs (started: 2023-06-05 02:35:17 +00:00)\n"
          ]
        }
      ],
      "source": [
        "# Normalizations\n",
        "def norm(df):\n",
        "  df = (df - df.min()) / (df.max() - df.min())  #  Min-max normalization formula/code\n",
        "  return df"
      ]
    },
    {
      "cell_type": "code",
      "execution_count": null,
      "metadata": {
        "id": "50MjOpyISwHh",
        "colab": {
          "base_uri": "https://localhost:8080/"
        },
        "outputId": "420ef752-f42a-4cc0-a8b9-859ca62fdc5e"
      },
      "outputs": [
        {
          "output_type": "stream",
          "name": "stdout",
          "text": [
            "time: 3.09 ms (started: 2023-06-05 02:35:17 +00:00)\n"
          ]
        }
      ],
      "source": [
        "# Assign fitur and class\n",
        "X = df.drop('classes', axis=1) # Removing the 'classes' column from the feature data\n",
        "y = df.classes # Assigning the 'classes' column as the target variable"
      ]
    },
    {
      "cell_type": "code",
      "execution_count": null,
      "metadata": {
        "colab": {
          "base_uri": "https://localhost:8080/",
          "height": 523
        },
        "id": "tmlldfH2Syp8",
        "outputId": "df7c9f00-9c8f-45c5-b054-4d824ec65a85"
      },
      "outputs": [
        {
          "output_type": "execute_result",
          "data": {
            "text/plain": [
              "          age  sex    height    weight  QRSduration  PRinterval  Q-Tinterval  \\\n",
              "0    0.792683  1.0  0.647059  0.686747     0.330827    0.293893     0.330855   \n",
              "1    0.585366  0.0  0.717647  0.379518     0.300752    0.299618     0.531599   \n",
              "2    0.524390  1.0  0.647059  0.331325     0.180451    0.324427     0.408922   \n",
              "3    0.439024  0.0  0.905882  0.481928     0.345865    0.561069     0.431227   \n",
              "4    0.451220  1.0  0.647059  0.319277     0.180451    0.000000     0.505576   \n",
              "..        ...  ...       ...       ...          ...         ...          ...   \n",
              "447  0.487805  1.0  0.576471  0.391566     0.248120    0.299618     0.535316   \n",
              "448  0.524390  0.0  0.752941  0.421687     0.406015    0.244275     0.527881   \n",
              "449  0.829268  1.0  0.647059  0.367470     0.150376    0.297710     0.304833   \n",
              "450  0.475610  1.0  0.564706  0.271084     0.203008    0.267176     0.550186   \n",
              "451  0.524390  1.0  0.647059  0.325301     0.142857    0.246183     0.334572   \n",
              "\n",
              "     Tinterval  Pinterval       QRS  ...  chV5_QRSTA  chV6_JJwaveAmp  \\\n",
              "0     0.234432   0.463415  0.363636  ...    0.364491        0.674699   \n",
              "1     0.201465   0.448780  0.451613  ...    0.490339        0.662651   \n",
              "2     0.549451   0.443902  0.674487  ...    0.389034        0.566265   \n",
              "3     0.205128   0.697561  0.601173  ...    0.582245        0.662651   \n",
              "4     0.208791   0.000000  0.604106  ...    0.531593        0.626506   \n",
              "..         ...        ...       ...  ...         ...             ...   \n",
              "447   0.087912   0.546341  0.695015  ...    0.634987        0.626506   \n",
              "448   0.318681   0.292683  0.404692  ...    0.448042        0.590361   \n",
              "449   0.234432   0.512195  0.557185  ...    0.434987        0.638554   \n",
              "450   0.150183   0.400000  0.656891  ...    0.633943        0.602410   \n",
              "451   0.194139   0.385366  0.448680  ...    0.321149        0.638554   \n",
              "\n",
              "     chV6_QwaveAmp  chV6_RwaveAmp  chV6_SwaveAmp  chV6_RPwaveAmp  \\\n",
              "0         1.000000       0.182203       0.818182             0.0   \n",
              "1         1.000000       0.237288       0.982517             0.0   \n",
              "2         1.000000       0.419492       1.000000             0.0   \n",
              "3         1.000000       0.292373       1.000000             0.0   \n",
              "4         1.000000       0.427966       1.000000             0.0   \n",
              "..             ...            ...            ...             ...   \n",
              "447       0.902439       0.444915       0.912587             0.0   \n",
              "448       1.000000       0.292373       1.000000             0.0   \n",
              "449       1.000000       0.279661       0.972028             0.0   \n",
              "450       1.000000       0.576271       1.000000             0.0   \n",
              "451       1.000000       0.114407       0.923077             0.0   \n",
              "\n",
              "     chV6_PwaveAmp  chV6_TwaveAmp  chV6_QRSA  chV6_QRSTA  \n",
              "0          0.43750       0.641667   0.278195    0.280259  \n",
              "1          0.37500       0.641667   0.415789    0.413592  \n",
              "2          0.46875       0.358333   0.569925    0.293851  \n",
              "3          0.31250       0.658333   0.497744    0.497735  \n",
              "4          0.25000       0.625000   0.529323    0.489320  \n",
              "..             ...            ...        ...         ...  \n",
              "447        0.40625       0.616667   0.466165    0.440777  \n",
              "448        0.37500       0.608333   0.487970    0.438835  \n",
              "449        0.31250       0.608333   0.421053    0.401942  \n",
              "450        0.40625       0.708333   0.597744    0.620712  \n",
              "451        0.46875       0.516667   0.336842    0.264078  \n",
              "\n",
              "[450 rows x 260 columns]"
            ],
            "text/html": [
              "\n",
              "  <div id=\"df-9ca8bc34-d1ce-4671-83dd-cfe6dc2e2096\">\n",
              "    <div class=\"colab-df-container\">\n",
              "      <div>\n",
              "<style scoped>\n",
              "    .dataframe tbody tr th:only-of-type {\n",
              "        vertical-align: middle;\n",
              "    }\n",
              "\n",
              "    .dataframe tbody tr th {\n",
              "        vertical-align: top;\n",
              "    }\n",
              "\n",
              "    .dataframe thead th {\n",
              "        text-align: right;\n",
              "    }\n",
              "</style>\n",
              "<table border=\"1\" class=\"dataframe\">\n",
              "  <thead>\n",
              "    <tr style=\"text-align: right;\">\n",
              "      <th></th>\n",
              "      <th>age</th>\n",
              "      <th>sex</th>\n",
              "      <th>height</th>\n",
              "      <th>weight</th>\n",
              "      <th>QRSduration</th>\n",
              "      <th>PRinterval</th>\n",
              "      <th>Q-Tinterval</th>\n",
              "      <th>Tinterval</th>\n",
              "      <th>Pinterval</th>\n",
              "      <th>QRS</th>\n",
              "      <th>...</th>\n",
              "      <th>chV5_QRSTA</th>\n",
              "      <th>chV6_JJwaveAmp</th>\n",
              "      <th>chV6_QwaveAmp</th>\n",
              "      <th>chV6_RwaveAmp</th>\n",
              "      <th>chV6_SwaveAmp</th>\n",
              "      <th>chV6_RPwaveAmp</th>\n",
              "      <th>chV6_PwaveAmp</th>\n",
              "      <th>chV6_TwaveAmp</th>\n",
              "      <th>chV6_QRSA</th>\n",
              "      <th>chV6_QRSTA</th>\n",
              "    </tr>\n",
              "  </thead>\n",
              "  <tbody>\n",
              "    <tr>\n",
              "      <th>0</th>\n",
              "      <td>0.792683</td>\n",
              "      <td>1.0</td>\n",
              "      <td>0.647059</td>\n",
              "      <td>0.686747</td>\n",
              "      <td>0.330827</td>\n",
              "      <td>0.293893</td>\n",
              "      <td>0.330855</td>\n",
              "      <td>0.234432</td>\n",
              "      <td>0.463415</td>\n",
              "      <td>0.363636</td>\n",
              "      <td>...</td>\n",
              "      <td>0.364491</td>\n",
              "      <td>0.674699</td>\n",
              "      <td>1.000000</td>\n",
              "      <td>0.182203</td>\n",
              "      <td>0.818182</td>\n",
              "      <td>0.0</td>\n",
              "      <td>0.43750</td>\n",
              "      <td>0.641667</td>\n",
              "      <td>0.278195</td>\n",
              "      <td>0.280259</td>\n",
              "    </tr>\n",
              "    <tr>\n",
              "      <th>1</th>\n",
              "      <td>0.585366</td>\n",
              "      <td>0.0</td>\n",
              "      <td>0.717647</td>\n",
              "      <td>0.379518</td>\n",
              "      <td>0.300752</td>\n",
              "      <td>0.299618</td>\n",
              "      <td>0.531599</td>\n",
              "      <td>0.201465</td>\n",
              "      <td>0.448780</td>\n",
              "      <td>0.451613</td>\n",
              "      <td>...</td>\n",
              "      <td>0.490339</td>\n",
              "      <td>0.662651</td>\n",
              "      <td>1.000000</td>\n",
              "      <td>0.237288</td>\n",
              "      <td>0.982517</td>\n",
              "      <td>0.0</td>\n",
              "      <td>0.37500</td>\n",
              "      <td>0.641667</td>\n",
              "      <td>0.415789</td>\n",
              "      <td>0.413592</td>\n",
              "    </tr>\n",
              "    <tr>\n",
              "      <th>2</th>\n",
              "      <td>0.524390</td>\n",
              "      <td>1.0</td>\n",
              "      <td>0.647059</td>\n",
              "      <td>0.331325</td>\n",
              "      <td>0.180451</td>\n",
              "      <td>0.324427</td>\n",
              "      <td>0.408922</td>\n",
              "      <td>0.549451</td>\n",
              "      <td>0.443902</td>\n",
              "      <td>0.674487</td>\n",
              "      <td>...</td>\n",
              "      <td>0.389034</td>\n",
              "      <td>0.566265</td>\n",
              "      <td>1.000000</td>\n",
              "      <td>0.419492</td>\n",
              "      <td>1.000000</td>\n",
              "      <td>0.0</td>\n",
              "      <td>0.46875</td>\n",
              "      <td>0.358333</td>\n",
              "      <td>0.569925</td>\n",
              "      <td>0.293851</td>\n",
              "    </tr>\n",
              "    <tr>\n",
              "      <th>3</th>\n",
              "      <td>0.439024</td>\n",
              "      <td>0.0</td>\n",
              "      <td>0.905882</td>\n",
              "      <td>0.481928</td>\n",
              "      <td>0.345865</td>\n",
              "      <td>0.561069</td>\n",
              "      <td>0.431227</td>\n",
              "      <td>0.205128</td>\n",
              "      <td>0.697561</td>\n",
              "      <td>0.601173</td>\n",
              "      <td>...</td>\n",
              "      <td>0.582245</td>\n",
              "      <td>0.662651</td>\n",
              "      <td>1.000000</td>\n",
              "      <td>0.292373</td>\n",
              "      <td>1.000000</td>\n",
              "      <td>0.0</td>\n",
              "      <td>0.31250</td>\n",
              "      <td>0.658333</td>\n",
              "      <td>0.497744</td>\n",
              "      <td>0.497735</td>\n",
              "    </tr>\n",
              "    <tr>\n",
              "      <th>4</th>\n",
              "      <td>0.451220</td>\n",
              "      <td>1.0</td>\n",
              "      <td>0.647059</td>\n",
              "      <td>0.319277</td>\n",
              "      <td>0.180451</td>\n",
              "      <td>0.000000</td>\n",
              "      <td>0.505576</td>\n",
              "      <td>0.208791</td>\n",
              "      <td>0.000000</td>\n",
              "      <td>0.604106</td>\n",
              "      <td>...</td>\n",
              "      <td>0.531593</td>\n",
              "      <td>0.626506</td>\n",
              "      <td>1.000000</td>\n",
              "      <td>0.427966</td>\n",
              "      <td>1.000000</td>\n",
              "      <td>0.0</td>\n",
              "      <td>0.25000</td>\n",
              "      <td>0.625000</td>\n",
              "      <td>0.529323</td>\n",
              "      <td>0.489320</td>\n",
              "    </tr>\n",
              "    <tr>\n",
              "      <th>...</th>\n",
              "      <td>...</td>\n",
              "      <td>...</td>\n",
              "      <td>...</td>\n",
              "      <td>...</td>\n",
              "      <td>...</td>\n",
              "      <td>...</td>\n",
              "      <td>...</td>\n",
              "      <td>...</td>\n",
              "      <td>...</td>\n",
              "      <td>...</td>\n",
              "      <td>...</td>\n",
              "      <td>...</td>\n",
              "      <td>...</td>\n",
              "      <td>...</td>\n",
              "      <td>...</td>\n",
              "      <td>...</td>\n",
              "      <td>...</td>\n",
              "      <td>...</td>\n",
              "      <td>...</td>\n",
              "      <td>...</td>\n",
              "      <td>...</td>\n",
              "    </tr>\n",
              "    <tr>\n",
              "      <th>447</th>\n",
              "      <td>0.487805</td>\n",
              "      <td>1.0</td>\n",
              "      <td>0.576471</td>\n",
              "      <td>0.391566</td>\n",
              "      <td>0.248120</td>\n",
              "      <td>0.299618</td>\n",
              "      <td>0.535316</td>\n",
              "      <td>0.087912</td>\n",
              "      <td>0.546341</td>\n",
              "      <td>0.695015</td>\n",
              "      <td>...</td>\n",
              "      <td>0.634987</td>\n",
              "      <td>0.626506</td>\n",
              "      <td>0.902439</td>\n",
              "      <td>0.444915</td>\n",
              "      <td>0.912587</td>\n",
              "      <td>0.0</td>\n",
              "      <td>0.40625</td>\n",
              "      <td>0.616667</td>\n",
              "      <td>0.466165</td>\n",
              "      <td>0.440777</td>\n",
              "    </tr>\n",
              "    <tr>\n",
              "      <th>448</th>\n",
              "      <td>0.524390</td>\n",
              "      <td>0.0</td>\n",
              "      <td>0.752941</td>\n",
              "      <td>0.421687</td>\n",
              "      <td>0.406015</td>\n",
              "      <td>0.244275</td>\n",
              "      <td>0.527881</td>\n",
              "      <td>0.318681</td>\n",
              "      <td>0.292683</td>\n",
              "      <td>0.404692</td>\n",
              "      <td>...</td>\n",
              "      <td>0.448042</td>\n",
              "      <td>0.590361</td>\n",
              "      <td>1.000000</td>\n",
              "      <td>0.292373</td>\n",
              "      <td>1.000000</td>\n",
              "      <td>0.0</td>\n",
              "      <td>0.37500</td>\n",
              "      <td>0.608333</td>\n",
              "      <td>0.487970</td>\n",
              "      <td>0.438835</td>\n",
              "    </tr>\n",
              "    <tr>\n",
              "      <th>449</th>\n",
              "      <td>0.829268</td>\n",
              "      <td>1.0</td>\n",
              "      <td>0.647059</td>\n",
              "      <td>0.367470</td>\n",
              "      <td>0.150376</td>\n",
              "      <td>0.297710</td>\n",
              "      <td>0.304833</td>\n",
              "      <td>0.234432</td>\n",
              "      <td>0.512195</td>\n",
              "      <td>0.557185</td>\n",
              "      <td>...</td>\n",
              "      <td>0.434987</td>\n",
              "      <td>0.638554</td>\n",
              "      <td>1.000000</td>\n",
              "      <td>0.279661</td>\n",
              "      <td>0.972028</td>\n",
              "      <td>0.0</td>\n",
              "      <td>0.31250</td>\n",
              "      <td>0.608333</td>\n",
              "      <td>0.421053</td>\n",
              "      <td>0.401942</td>\n",
              "    </tr>\n",
              "    <tr>\n",
              "      <th>450</th>\n",
              "      <td>0.475610</td>\n",
              "      <td>1.0</td>\n",
              "      <td>0.564706</td>\n",
              "      <td>0.271084</td>\n",
              "      <td>0.203008</td>\n",
              "      <td>0.267176</td>\n",
              "      <td>0.550186</td>\n",
              "      <td>0.150183</td>\n",
              "      <td>0.400000</td>\n",
              "      <td>0.656891</td>\n",
              "      <td>...</td>\n",
              "      <td>0.633943</td>\n",
              "      <td>0.602410</td>\n",
              "      <td>1.000000</td>\n",
              "      <td>0.576271</td>\n",
              "      <td>1.000000</td>\n",
              "      <td>0.0</td>\n",
              "      <td>0.40625</td>\n",
              "      <td>0.708333</td>\n",
              "      <td>0.597744</td>\n",
              "      <td>0.620712</td>\n",
              "    </tr>\n",
              "    <tr>\n",
              "      <th>451</th>\n",
              "      <td>0.524390</td>\n",
              "      <td>1.0</td>\n",
              "      <td>0.647059</td>\n",
              "      <td>0.325301</td>\n",
              "      <td>0.142857</td>\n",
              "      <td>0.246183</td>\n",
              "      <td>0.334572</td>\n",
              "      <td>0.194139</td>\n",
              "      <td>0.385366</td>\n",
              "      <td>0.448680</td>\n",
              "      <td>...</td>\n",
              "      <td>0.321149</td>\n",
              "      <td>0.638554</td>\n",
              "      <td>1.000000</td>\n",
              "      <td>0.114407</td>\n",
              "      <td>0.923077</td>\n",
              "      <td>0.0</td>\n",
              "      <td>0.46875</td>\n",
              "      <td>0.516667</td>\n",
              "      <td>0.336842</td>\n",
              "      <td>0.264078</td>\n",
              "    </tr>\n",
              "  </tbody>\n",
              "</table>\n",
              "<p>450 rows × 260 columns</p>\n",
              "</div>\n",
              "      <button class=\"colab-df-convert\" onclick=\"convertToInteractive('df-9ca8bc34-d1ce-4671-83dd-cfe6dc2e2096')\"\n",
              "              title=\"Convert this dataframe to an interactive table.\"\n",
              "              style=\"display:none;\">\n",
              "        \n",
              "  <svg xmlns=\"http://www.w3.org/2000/svg\" height=\"24px\"viewBox=\"0 0 24 24\"\n",
              "       width=\"24px\">\n",
              "    <path d=\"M0 0h24v24H0V0z\" fill=\"none\"/>\n",
              "    <path d=\"M18.56 5.44l.94 2.06.94-2.06 2.06-.94-2.06-.94-.94-2.06-.94 2.06-2.06.94zm-11 1L8.5 8.5l.94-2.06 2.06-.94-2.06-.94L8.5 2.5l-.94 2.06-2.06.94zm10 10l.94 2.06.94-2.06 2.06-.94-2.06-.94-.94-2.06-.94 2.06-2.06.94z\"/><path d=\"M17.41 7.96l-1.37-1.37c-.4-.4-.92-.59-1.43-.59-.52 0-1.04.2-1.43.59L10.3 9.45l-7.72 7.72c-.78.78-.78 2.05 0 2.83L4 21.41c.39.39.9.59 1.41.59.51 0 1.02-.2 1.41-.59l7.78-7.78 2.81-2.81c.8-.78.8-2.07 0-2.86zM5.41 20L4 18.59l7.72-7.72 1.47 1.35L5.41 20z\"/>\n",
              "  </svg>\n",
              "      </button>\n",
              "      \n",
              "  <style>\n",
              "    .colab-df-container {\n",
              "      display:flex;\n",
              "      flex-wrap:wrap;\n",
              "      gap: 12px;\n",
              "    }\n",
              "\n",
              "    .colab-df-convert {\n",
              "      background-color: #E8F0FE;\n",
              "      border: none;\n",
              "      border-radius: 50%;\n",
              "      cursor: pointer;\n",
              "      display: none;\n",
              "      fill: #1967D2;\n",
              "      height: 32px;\n",
              "      padding: 0 0 0 0;\n",
              "      width: 32px;\n",
              "    }\n",
              "\n",
              "    .colab-df-convert:hover {\n",
              "      background-color: #E2EBFA;\n",
              "      box-shadow: 0px 1px 2px rgba(60, 64, 67, 0.3), 0px 1px 3px 1px rgba(60, 64, 67, 0.15);\n",
              "      fill: #174EA6;\n",
              "    }\n",
              "\n",
              "    [theme=dark] .colab-df-convert {\n",
              "      background-color: #3B4455;\n",
              "      fill: #D2E3FC;\n",
              "    }\n",
              "\n",
              "    [theme=dark] .colab-df-convert:hover {\n",
              "      background-color: #434B5C;\n",
              "      box-shadow: 0px 1px 3px 1px rgba(0, 0, 0, 0.15);\n",
              "      filter: drop-shadow(0px 1px 2px rgba(0, 0, 0, 0.3));\n",
              "      fill: #FFFFFF;\n",
              "    }\n",
              "  </style>\n",
              "\n",
              "      <script>\n",
              "        const buttonEl =\n",
              "          document.querySelector('#df-9ca8bc34-d1ce-4671-83dd-cfe6dc2e2096 button.colab-df-convert');\n",
              "        buttonEl.style.display =\n",
              "          google.colab.kernel.accessAllowed ? 'block' : 'none';\n",
              "\n",
              "        async function convertToInteractive(key) {\n",
              "          const element = document.querySelector('#df-9ca8bc34-d1ce-4671-83dd-cfe6dc2e2096');\n",
              "          const dataTable =\n",
              "            await google.colab.kernel.invokeFunction('convertToInteractive',\n",
              "                                                     [key], {});\n",
              "          if (!dataTable) return;\n",
              "\n",
              "          const docLinkHtml = 'Like what you see? Visit the ' +\n",
              "            '<a target=\"_blank\" href=https://colab.research.google.com/notebooks/data_table.ipynb>data table notebook</a>'\n",
              "            + ' to learn more about interactive tables.';\n",
              "          element.innerHTML = '';\n",
              "          dataTable['output_type'] = 'display_data';\n",
              "          await google.colab.output.renderOutput(dataTable, element);\n",
              "          const docLink = document.createElement('div');\n",
              "          docLink.innerHTML = docLinkHtml;\n",
              "          element.appendChild(docLink);\n",
              "        }\n",
              "      </script>\n",
              "    </div>\n",
              "  </div>\n",
              "  "
            ]
          },
          "metadata": {},
          "execution_count": 27
        },
        {
          "output_type": "stream",
          "name": "stdout",
          "text": [
            "time: 54.7 ms (started: 2023-06-05 02:35:17 +00:00)\n"
          ]
        }
      ],
      "source": [
        "X = norm(X) # Performing normalization on the feature data\n",
        "X"
      ]
    },
    {
      "cell_type": "code",
      "execution_count": null,
      "metadata": {
        "colab": {
          "base_uri": "https://localhost:8080/",
          "height": 429
        },
        "id": "x67DODclTBfo",
        "outputId": "28537ef4-7139-4dbf-ccf3-de1ca639cf71"
      },
      "outputs": [
        {
          "output_type": "execute_result",
          "data": {
            "text/plain": [
              "              age         sex      height      weight  QRSduration  \\\n",
              "count  450.000000  450.000000  450.000000  450.000000   450.000000   \n",
              "mean     0.557019    0.551111    0.692261    0.352035     0.255205   \n",
              "std      0.197734    0.497934    0.122496    0.097185     0.115751   \n",
              "min      0.000000    0.000000    0.000000    0.000000     0.000000   \n",
              "25%      0.426829    0.000000    0.647059    0.295181     0.187970   \n",
              "50%      0.560976    1.000000    0.694118    0.349398     0.236842   \n",
              "75%      0.695122    1.000000    0.764706    0.415663     0.293233   \n",
              "max      1.000000    1.000000    1.000000    1.000000     1.000000   \n",
              "\n",
              "       PRinterval  Q-Tinterval   Tinterval   Pinterval         QRS  ...  \\\n",
              "count  450.000000   450.000000  450.000000  450.000000  450.000000  ...   \n",
              "mean     0.296175     0.475085    0.227424    0.439198    0.602209  ...   \n",
              "std      0.085722     0.119927    0.130567    0.126021    0.132711  ...   \n",
              "min      0.000000     0.000000    0.000000    0.000000    0.000000  ...   \n",
              "25%      0.270992     0.408922    0.146520    0.385366    0.513930  ...   \n",
              "50%      0.299618     0.473978    0.197802    0.443902    0.621701  ...   \n",
              "75%      0.333969     0.535316    0.260073    0.497561    0.697947  ...   \n",
              "max      1.000000     1.000000    1.000000    1.000000    1.000000  ...   \n",
              "\n",
              "       chV5_QRSTA  chV6_JJwaveAmp  chV6_QwaveAmp  chV6_RwaveAmp  \\\n",
              "count  450.000000      450.000000     450.000000     450.000000   \n",
              "mean     0.504249        0.637456       0.932033       0.384200   \n",
              "std      0.127598        0.071645       0.134044       0.146977   \n",
              "min      0.000000        0.000000       0.000000       0.000000   \n",
              "25%      0.413446        0.614458       0.902439       0.279661   \n",
              "50%      0.491123        0.650602       1.000000       0.372881   \n",
              "75%      0.583290        0.674699       1.000000       0.474576   \n",
              "max      1.000000        1.000000       1.000000       1.000000   \n",
              "\n",
              "       chV6_SwaveAmp  chV6_RPwaveAmp  chV6_PwaveAmp  chV6_TwaveAmp  \\\n",
              "count     450.000000      450.000000     450.000000     450.000000   \n",
              "mean        0.949604        0.005000       0.410347       0.601722   \n",
              "std         0.069658        0.062786       0.108226       0.118978   \n",
              "min         0.000000        0.000000       0.000000       0.000000   \n",
              "25%         0.926573        0.000000       0.375000       0.541667   \n",
              "50%         0.961538        0.000000       0.406250       0.612500   \n",
              "75%         1.000000        0.000000       0.468750       0.675000   \n",
              "max         1.000000        1.000000       1.000000       1.000000   \n",
              "\n",
              "        chV6_QRSA  chV6_QRSTA  \n",
              "count  450.000000  450.000000  \n",
              "mean     0.478438    0.441348  \n",
              "std      0.100983    0.119441  \n",
              "min      0.000000    0.000000  \n",
              "25%      0.418797    0.364563  \n",
              "50%      0.468797    0.431715  \n",
              "75%      0.526880    0.516343  \n",
              "max      1.000000    1.000000  \n",
              "\n",
              "[8 rows x 260 columns]"
            ],
            "text/html": [
              "\n",
              "  <div id=\"df-4b2e09b0-a757-4394-bed0-b8a0210b07f5\">\n",
              "    <div class=\"colab-df-container\">\n",
              "      <div>\n",
              "<style scoped>\n",
              "    .dataframe tbody tr th:only-of-type {\n",
              "        vertical-align: middle;\n",
              "    }\n",
              "\n",
              "    .dataframe tbody tr th {\n",
              "        vertical-align: top;\n",
              "    }\n",
              "\n",
              "    .dataframe thead th {\n",
              "        text-align: right;\n",
              "    }\n",
              "</style>\n",
              "<table border=\"1\" class=\"dataframe\">\n",
              "  <thead>\n",
              "    <tr style=\"text-align: right;\">\n",
              "      <th></th>\n",
              "      <th>age</th>\n",
              "      <th>sex</th>\n",
              "      <th>height</th>\n",
              "      <th>weight</th>\n",
              "      <th>QRSduration</th>\n",
              "      <th>PRinterval</th>\n",
              "      <th>Q-Tinterval</th>\n",
              "      <th>Tinterval</th>\n",
              "      <th>Pinterval</th>\n",
              "      <th>QRS</th>\n",
              "      <th>...</th>\n",
              "      <th>chV5_QRSTA</th>\n",
              "      <th>chV6_JJwaveAmp</th>\n",
              "      <th>chV6_QwaveAmp</th>\n",
              "      <th>chV6_RwaveAmp</th>\n",
              "      <th>chV6_SwaveAmp</th>\n",
              "      <th>chV6_RPwaveAmp</th>\n",
              "      <th>chV6_PwaveAmp</th>\n",
              "      <th>chV6_TwaveAmp</th>\n",
              "      <th>chV6_QRSA</th>\n",
              "      <th>chV6_QRSTA</th>\n",
              "    </tr>\n",
              "  </thead>\n",
              "  <tbody>\n",
              "    <tr>\n",
              "      <th>count</th>\n",
              "      <td>450.000000</td>\n",
              "      <td>450.000000</td>\n",
              "      <td>450.000000</td>\n",
              "      <td>450.000000</td>\n",
              "      <td>450.000000</td>\n",
              "      <td>450.000000</td>\n",
              "      <td>450.000000</td>\n",
              "      <td>450.000000</td>\n",
              "      <td>450.000000</td>\n",
              "      <td>450.000000</td>\n",
              "      <td>...</td>\n",
              "      <td>450.000000</td>\n",
              "      <td>450.000000</td>\n",
              "      <td>450.000000</td>\n",
              "      <td>450.000000</td>\n",
              "      <td>450.000000</td>\n",
              "      <td>450.000000</td>\n",
              "      <td>450.000000</td>\n",
              "      <td>450.000000</td>\n",
              "      <td>450.000000</td>\n",
              "      <td>450.000000</td>\n",
              "    </tr>\n",
              "    <tr>\n",
              "      <th>mean</th>\n",
              "      <td>0.557019</td>\n",
              "      <td>0.551111</td>\n",
              "      <td>0.692261</td>\n",
              "      <td>0.352035</td>\n",
              "      <td>0.255205</td>\n",
              "      <td>0.296175</td>\n",
              "      <td>0.475085</td>\n",
              "      <td>0.227424</td>\n",
              "      <td>0.439198</td>\n",
              "      <td>0.602209</td>\n",
              "      <td>...</td>\n",
              "      <td>0.504249</td>\n",
              "      <td>0.637456</td>\n",
              "      <td>0.932033</td>\n",
              "      <td>0.384200</td>\n",
              "      <td>0.949604</td>\n",
              "      <td>0.005000</td>\n",
              "      <td>0.410347</td>\n",
              "      <td>0.601722</td>\n",
              "      <td>0.478438</td>\n",
              "      <td>0.441348</td>\n",
              "    </tr>\n",
              "    <tr>\n",
              "      <th>std</th>\n",
              "      <td>0.197734</td>\n",
              "      <td>0.497934</td>\n",
              "      <td>0.122496</td>\n",
              "      <td>0.097185</td>\n",
              "      <td>0.115751</td>\n",
              "      <td>0.085722</td>\n",
              "      <td>0.119927</td>\n",
              "      <td>0.130567</td>\n",
              "      <td>0.126021</td>\n",
              "      <td>0.132711</td>\n",
              "      <td>...</td>\n",
              "      <td>0.127598</td>\n",
              "      <td>0.071645</td>\n",
              "      <td>0.134044</td>\n",
              "      <td>0.146977</td>\n",
              "      <td>0.069658</td>\n",
              "      <td>0.062786</td>\n",
              "      <td>0.108226</td>\n",
              "      <td>0.118978</td>\n",
              "      <td>0.100983</td>\n",
              "      <td>0.119441</td>\n",
              "    </tr>\n",
              "    <tr>\n",
              "      <th>min</th>\n",
              "      <td>0.000000</td>\n",
              "      <td>0.000000</td>\n",
              "      <td>0.000000</td>\n",
              "      <td>0.000000</td>\n",
              "      <td>0.000000</td>\n",
              "      <td>0.000000</td>\n",
              "      <td>0.000000</td>\n",
              "      <td>0.000000</td>\n",
              "      <td>0.000000</td>\n",
              "      <td>0.000000</td>\n",
              "      <td>...</td>\n",
              "      <td>0.000000</td>\n",
              "      <td>0.000000</td>\n",
              "      <td>0.000000</td>\n",
              "      <td>0.000000</td>\n",
              "      <td>0.000000</td>\n",
              "      <td>0.000000</td>\n",
              "      <td>0.000000</td>\n",
              "      <td>0.000000</td>\n",
              "      <td>0.000000</td>\n",
              "      <td>0.000000</td>\n",
              "    </tr>\n",
              "    <tr>\n",
              "      <th>25%</th>\n",
              "      <td>0.426829</td>\n",
              "      <td>0.000000</td>\n",
              "      <td>0.647059</td>\n",
              "      <td>0.295181</td>\n",
              "      <td>0.187970</td>\n",
              "      <td>0.270992</td>\n",
              "      <td>0.408922</td>\n",
              "      <td>0.146520</td>\n",
              "      <td>0.385366</td>\n",
              "      <td>0.513930</td>\n",
              "      <td>...</td>\n",
              "      <td>0.413446</td>\n",
              "      <td>0.614458</td>\n",
              "      <td>0.902439</td>\n",
              "      <td>0.279661</td>\n",
              "      <td>0.926573</td>\n",
              "      <td>0.000000</td>\n",
              "      <td>0.375000</td>\n",
              "      <td>0.541667</td>\n",
              "      <td>0.418797</td>\n",
              "      <td>0.364563</td>\n",
              "    </tr>\n",
              "    <tr>\n",
              "      <th>50%</th>\n",
              "      <td>0.560976</td>\n",
              "      <td>1.000000</td>\n",
              "      <td>0.694118</td>\n",
              "      <td>0.349398</td>\n",
              "      <td>0.236842</td>\n",
              "      <td>0.299618</td>\n",
              "      <td>0.473978</td>\n",
              "      <td>0.197802</td>\n",
              "      <td>0.443902</td>\n",
              "      <td>0.621701</td>\n",
              "      <td>...</td>\n",
              "      <td>0.491123</td>\n",
              "      <td>0.650602</td>\n",
              "      <td>1.000000</td>\n",
              "      <td>0.372881</td>\n",
              "      <td>0.961538</td>\n",
              "      <td>0.000000</td>\n",
              "      <td>0.406250</td>\n",
              "      <td>0.612500</td>\n",
              "      <td>0.468797</td>\n",
              "      <td>0.431715</td>\n",
              "    </tr>\n",
              "    <tr>\n",
              "      <th>75%</th>\n",
              "      <td>0.695122</td>\n",
              "      <td>1.000000</td>\n",
              "      <td>0.764706</td>\n",
              "      <td>0.415663</td>\n",
              "      <td>0.293233</td>\n",
              "      <td>0.333969</td>\n",
              "      <td>0.535316</td>\n",
              "      <td>0.260073</td>\n",
              "      <td>0.497561</td>\n",
              "      <td>0.697947</td>\n",
              "      <td>...</td>\n",
              "      <td>0.583290</td>\n",
              "      <td>0.674699</td>\n",
              "      <td>1.000000</td>\n",
              "      <td>0.474576</td>\n",
              "      <td>1.000000</td>\n",
              "      <td>0.000000</td>\n",
              "      <td>0.468750</td>\n",
              "      <td>0.675000</td>\n",
              "      <td>0.526880</td>\n",
              "      <td>0.516343</td>\n",
              "    </tr>\n",
              "    <tr>\n",
              "      <th>max</th>\n",
              "      <td>1.000000</td>\n",
              "      <td>1.000000</td>\n",
              "      <td>1.000000</td>\n",
              "      <td>1.000000</td>\n",
              "      <td>1.000000</td>\n",
              "      <td>1.000000</td>\n",
              "      <td>1.000000</td>\n",
              "      <td>1.000000</td>\n",
              "      <td>1.000000</td>\n",
              "      <td>1.000000</td>\n",
              "      <td>...</td>\n",
              "      <td>1.000000</td>\n",
              "      <td>1.000000</td>\n",
              "      <td>1.000000</td>\n",
              "      <td>1.000000</td>\n",
              "      <td>1.000000</td>\n",
              "      <td>1.000000</td>\n",
              "      <td>1.000000</td>\n",
              "      <td>1.000000</td>\n",
              "      <td>1.000000</td>\n",
              "      <td>1.000000</td>\n",
              "    </tr>\n",
              "  </tbody>\n",
              "</table>\n",
              "<p>8 rows × 260 columns</p>\n",
              "</div>\n",
              "      <button class=\"colab-df-convert\" onclick=\"convertToInteractive('df-4b2e09b0-a757-4394-bed0-b8a0210b07f5')\"\n",
              "              title=\"Convert this dataframe to an interactive table.\"\n",
              "              style=\"display:none;\">\n",
              "        \n",
              "  <svg xmlns=\"http://www.w3.org/2000/svg\" height=\"24px\"viewBox=\"0 0 24 24\"\n",
              "       width=\"24px\">\n",
              "    <path d=\"M0 0h24v24H0V0z\" fill=\"none\"/>\n",
              "    <path d=\"M18.56 5.44l.94 2.06.94-2.06 2.06-.94-2.06-.94-.94-2.06-.94 2.06-2.06.94zm-11 1L8.5 8.5l.94-2.06 2.06-.94-2.06-.94L8.5 2.5l-.94 2.06-2.06.94zm10 10l.94 2.06.94-2.06 2.06-.94-2.06-.94-.94-2.06-.94 2.06-2.06.94z\"/><path d=\"M17.41 7.96l-1.37-1.37c-.4-.4-.92-.59-1.43-.59-.52 0-1.04.2-1.43.59L10.3 9.45l-7.72 7.72c-.78.78-.78 2.05 0 2.83L4 21.41c.39.39.9.59 1.41.59.51 0 1.02-.2 1.41-.59l7.78-7.78 2.81-2.81c.8-.78.8-2.07 0-2.86zM5.41 20L4 18.59l7.72-7.72 1.47 1.35L5.41 20z\"/>\n",
              "  </svg>\n",
              "      </button>\n",
              "      \n",
              "  <style>\n",
              "    .colab-df-container {\n",
              "      display:flex;\n",
              "      flex-wrap:wrap;\n",
              "      gap: 12px;\n",
              "    }\n",
              "\n",
              "    .colab-df-convert {\n",
              "      background-color: #E8F0FE;\n",
              "      border: none;\n",
              "      border-radius: 50%;\n",
              "      cursor: pointer;\n",
              "      display: none;\n",
              "      fill: #1967D2;\n",
              "      height: 32px;\n",
              "      padding: 0 0 0 0;\n",
              "      width: 32px;\n",
              "    }\n",
              "\n",
              "    .colab-df-convert:hover {\n",
              "      background-color: #E2EBFA;\n",
              "      box-shadow: 0px 1px 2px rgba(60, 64, 67, 0.3), 0px 1px 3px 1px rgba(60, 64, 67, 0.15);\n",
              "      fill: #174EA6;\n",
              "    }\n",
              "\n",
              "    [theme=dark] .colab-df-convert {\n",
              "      background-color: #3B4455;\n",
              "      fill: #D2E3FC;\n",
              "    }\n",
              "\n",
              "    [theme=dark] .colab-df-convert:hover {\n",
              "      background-color: #434B5C;\n",
              "      box-shadow: 0px 1px 3px 1px rgba(0, 0, 0, 0.15);\n",
              "      filter: drop-shadow(0px 1px 2px rgba(0, 0, 0, 0.3));\n",
              "      fill: #FFFFFF;\n",
              "    }\n",
              "  </style>\n",
              "\n",
              "      <script>\n",
              "        const buttonEl =\n",
              "          document.querySelector('#df-4b2e09b0-a757-4394-bed0-b8a0210b07f5 button.colab-df-convert');\n",
              "        buttonEl.style.display =\n",
              "          google.colab.kernel.accessAllowed ? 'block' : 'none';\n",
              "\n",
              "        async function convertToInteractive(key) {\n",
              "          const element = document.querySelector('#df-4b2e09b0-a757-4394-bed0-b8a0210b07f5');\n",
              "          const dataTable =\n",
              "            await google.colab.kernel.invokeFunction('convertToInteractive',\n",
              "                                                     [key], {});\n",
              "          if (!dataTable) return;\n",
              "\n",
              "          const docLinkHtml = 'Like what you see? Visit the ' +\n",
              "            '<a target=\"_blank\" href=https://colab.research.google.com/notebooks/data_table.ipynb>data table notebook</a>'\n",
              "            + ' to learn more about interactive tables.';\n",
              "          element.innerHTML = '';\n",
              "          dataTable['output_type'] = 'display_data';\n",
              "          await google.colab.output.renderOutput(dataTable, element);\n",
              "          const docLink = document.createElement('div');\n",
              "          docLink.innerHTML = docLinkHtml;\n",
              "          element.appendChild(docLink);\n",
              "        }\n",
              "      </script>\n",
              "    </div>\n",
              "  </div>\n",
              "  "
            ]
          },
          "metadata": {},
          "execution_count": 28
        },
        {
          "output_type": "stream",
          "name": "stdout",
          "text": [
            "time: 714 ms (started: 2023-06-05 02:35:17 +00:00)\n"
          ]
        }
      ],
      "source": [
        "X.describe() # Generating descriptive statistics of the normalized feature data"
      ]
    },
    {
      "cell_type": "code",
      "execution_count": null,
      "metadata": {
        "id": "UmI4dFB7TGZQ",
        "colab": {
          "base_uri": "https://localhost:8080/"
        },
        "outputId": "611ba421-c53a-4da2-a36a-daff9189a91f"
      },
      "outputs": [
        {
          "output_type": "stream",
          "name": "stdout",
          "text": [
            "time: 723 µs (started: 2023-06-05 02:35:18 +00:00)\n"
          ]
        }
      ],
      "source": [
        "# Calculating distance with euclidean distance\n",
        "def euclidean(x1, x2):\n",
        "  return np.sqrt(np.sum((x1 -x2)**2))# formula to find euclidean distance"
      ]
    },
    {
      "cell_type": "code",
      "execution_count": null,
      "metadata": {
        "colab": {
          "base_uri": "https://localhost:8080/"
        },
        "id": "hdjGc3gwTKfX",
        "outputId": "6173e495-faa9-4938-a71e-593e58d438e8"
      },
      "outputs": [
        {
          "output_type": "execute_result",
          "data": {
            "text/plain": [
              "1.8729546666998453"
            ]
          },
          "metadata": {},
          "execution_count": 30
        },
        {
          "output_type": "stream",
          "name": "stdout",
          "text": [
            "time: 9.26 ms (started: 2023-06-05 02:35:18 +00:00)\n"
          ]
        }
      ],
      "source": [
        "# Calculating the Euclidean distance between the first and second rows of X\n",
        "euclidean(X.iloc[0], X.iloc[1])"
      ]
    },
    {
      "cell_type": "code",
      "execution_count": null,
      "metadata": {
        "id": "XR8-nPeLTOJj",
        "colab": {
          "base_uri": "https://localhost:8080/"
        },
        "outputId": "27c4e253-d865-4b28-a4b6-dbb1e4c57d53"
      },
      "outputs": [
        {
          "output_type": "stream",
          "name": "stdout",
          "text": [
            "time: 1.23 ms (started: 2023-06-05 02:35:18 +00:00)\n"
          ]
        }
      ],
      "source": [
        "# Training KNN\n",
        "def knn(X_train, y_train, X_test, k): # k indicates how many neighbors\n",
        "  dist = []\n",
        "   # Calculating the distances between training and testing data\n",
        "  for row in range(X_train.shape[0]):\n",
        "    dist.append(euclidean(X_train.iloc[row], X_test))\n",
        "\n",
        "  data = X_train.copy() # Creating a copy of X_train\n",
        "  data['Dist'] = dist       # Adding the distance values to the data\n",
        "  data['Class'] = y_train    # Adding the class labels to the data\n",
        "  data = data.sort_values(by= 'Dist').reset_index(drop=True) # Sorting the data based on distance\n",
        "\n",
        "  y_pred = data.iloc[:k].Class.mode() # Selecting the most frequent class labels among the k nearest neighbors\n",
        "  return y_pred[0] # Returning the predicted class label"
      ]
    },
    {
      "cell_type": "code",
      "execution_count": null,
      "metadata": {
        "id": "0gvHRy31TQT0",
        "colab": {
          "base_uri": "https://localhost:8080/"
        },
        "outputId": "fb49798c-696b-4280-abe5-b0e6eecfcee3"
      },
      "outputs": [
        {
          "output_type": "stream",
          "name": "stdout",
          "text": [
            "time: 759 µs (started: 2023-06-05 02:35:18 +00:00)\n"
          ]
        }
      ],
      "source": [
        "# Counting accuration\n",
        "def acc(y_pred, y_true): # Calculating the accuracy of the model\n",
        "  true = 0\n",
        "  for i in range(len(y_pred)):\n",
        "    if y_pred[i] == y_true[i]:\n",
        "      true+=1\n",
        "  return true/len(y_pred) # Returning the accuracy as a ratio of correctly predicted samples"
      ]
    },
    {
      "cell_type": "code",
      "execution_count": null,
      "metadata": {
        "id": "yJ-z-WyjTSou",
        "colab": {
          "base_uri": "https://localhost:8080/"
        },
        "outputId": "dce49e47-9ab1-42cf-f5f4-2d95afe72537"
      },
      "outputs": [
        {
          "output_type": "stream",
          "name": "stdout",
          "text": [
            "time: 1.24 ms (started: 2023-06-05 02:35:18 +00:00)\n"
          ]
        }
      ],
      "source": [
        "# Evaluating the model using a specific fold and k value\n",
        "def evaluate(fold, k):\n",
        "  test, train = fold # what data we should use here\n",
        "  X_train, y_train = train.drop('classes', axis=1), train.classes # what column we want to drop\n",
        "  X_test, y_test = test.drop('classes', axis=1), test.classes # what column we want to drop\n",
        "  X_train = norm(X_train)# normalize\n",
        "  X_test =  norm(X_test)# normalize\n",
        "  y_preds = []\n",
        "  for row in range(X_test.shape[0]):\n",
        "    y_preds.append(knn(X_train, y_train, X_test.iloc[row], k)) # the data, the data label, X_test.iloc[row], assign to choose how many point that are close\n",
        "\n",
        "  return (acc(y_preds, y_test)) # Returning the accuracy of the model"
      ]
    },
    {
      "cell_type": "code",
      "execution_count": null,
      "metadata": {
        "colab": {
          "base_uri": "https://localhost:8080/",
          "height": 615
        },
        "id": "4ImdHAHqTX4R",
        "outputId": "8816e534-fe40-4022-f9fb-ecb3c4ea6919"
      },
      "outputs": [
        {
          "output_type": "stream",
          "name": "stdout",
          "text": [
            "using k: 4, with average accuration: 0.6155555555555555\n",
            "using k: 5, with average accuration: 0.6\n",
            "using k: 6, with average accuration: 0.6066666666666666\n",
            "using k: 7, with average accuration: 0.5955555555555555\n",
            "using k: 8, with average accuration: 0.5955555555555556\n",
            "using k: 9, with average accuration: 0.5911111111111111\n",
            "using k: 10, with average accuration: 0.5955555555555555\n"
          ]
        },
        {
          "output_type": "display_data",
          "data": {
            "text/plain": [
              "<Figure size 640x480 with 1 Axes>"
            ],
            "image/png": "[encoded data removed]"
          },
          "metadata": {}
        },
        {
          "output_type": "stream",
          "name": "stdout",
          "text": [
            "time: 14min 3s (started: 2023-06-05 02:35:18 +00:00)\n"
          ]
        }
      ],
      "source": [
        "k_values = []\n",
        "avg_accuracies = []\n",
        "\n",
        "folds = [fold1, fold2, fold3]\n",
        "\n",
        "for i in range(4, 11):\n",
        "    k = i\n",
        "    accs = []\n",
        "    for j in range(len(folds)):\n",
        "        accs.append(evaluate(folds[j], k))\n",
        "    avg_accuracy = sum(accs) / len(folds)\n",
        "\n",
        "    k_values.append(k)\n",
        "    avg_accuracies.append(avg_accuracy)\n",
        "    print(f'using k: {k}, with average accuration: {avg_accuracy}')\n",
        "\n",
        "# Create line plot\n",
        "plt.plot(k_values, avg_accuracies, marker='o')\n",
        "plt.xlabel('k')\n",
        "plt.ylabel('Average Accuracy')\n",
        "plt.title('Average Accuracy vs. k')\n",
        "plt.grid(True)\n",
        "plt.show()"
      ]
    },
    {
      "cell_type": "markdown",
      "source": [],
      "metadata": {
        "id": "nMYUIt5HHw_p"
      }
    }
  ],
  "metadata": {
    "colab": {
      "provenance": []
    },
    "kernelspec": {
      "display_name": "Python 3",
      "name": "python3"
    },
    "language_info": {
      "name": "python"
    }
  },
  "nbformat": 4,
  "nbformat_minor": 0
}